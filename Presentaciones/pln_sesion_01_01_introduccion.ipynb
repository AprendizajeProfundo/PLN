{
 "cells": [
  {
   "cell_type": "markdown",
   "metadata": {
    "tags": []
   },
   "source": [
    "<figure>\n",
    "<img src=\"../Imagenes/logo-final-ap.png\"  width=\"80\" height=\"80\" align=\"left\"/> \n",
    "</figure>\n",
    "\n",
    "# <span style=\"color:blue\"><left>Aprendizaje Profundo</left></span>"
   ]
  },
  {
   "cell_type": "markdown",
   "metadata": {},
   "source": [
    "# <span style=\"color:red\"><center>Introducción al Procesamiento de Lenguaje Natural</center></span>"
   ]
  },
  {
   "cell_type": "markdown",
   "metadata": {},
   "source": [
    "<center>Herramientas Esenciales para la Vida</center>\n",
    "<br></br>"
   ]
  },
  {
   "cell_type": "markdown",
   "metadata": {
    "tags": []
   },
   "source": [
    "##   <span style=\"color:blue\">Profesores</span>"
   ]
  },
  {
   "cell_type": "markdown",
   "metadata": {},
   "source": [
    "1. Alvaro Mauricio Montenegro Díaz, ammontenegrod@unal.edu.co\n",
    "2. Daniel Mauricio Montenegro Reyes, dextronomo@gmail.com "
   ]
  },
  {
   "cell_type": "markdown",
   "metadata": {},
   "source": [
    "##   <span style=\"color:blue\">Asesora Medios y Marketing digital</span>\n",
    " "
   ]
  },
  {
   "cell_type": "markdown",
   "metadata": {},
   "source": [
    "4. Maria del Pilar Montenegro, pmontenegro88@gmail.com "
   ]
  },
  {
   "cell_type": "markdown",
   "metadata": {
    "slideshow": {
     "slide_type": "slide"
    },
    "tags": []
   },
   "source": [
    "## <span style=\"color:blue\">Referencias</span>\n",
    "<br></br>"
   ]
  },
  {
   "cell_type": "markdown",
   "metadata": {},
   "source": [
    "1. [Aprendizaje Profundo-Diplomado](https://github.com/AprendizajeProfundo/Diplomado)\n",
    "1. [Aprendizaje Profundo-PLN](https://github.com/AprendizajeProfundo/PLN)\n",
    "1. Varios, [Dive into deep learning](https://d2l.ai/), enero 2021"
   ]
  },
  {
   "cell_type": "markdown",
   "metadata": {
    "slideshow": {
     "slide_type": "slide"
    },
    "tags": []
   },
   "source": [
    "## <span style=\"color:blue\">Contenido</span>\n",
    "\n",
    "<br></br>"
   ]
  },
  {
   "cell_type": "markdown",
   "metadata": {},
   "source": [
    "- [**Introducción al Aprendizaje Profundo**](#Introducción-al-Aprendizaje-Profundo)\n",
    "\n",
    "- [**Introducción al Tratamiento clásico de Lenguaje Natural**](#Introducción-al-Tratamiento-clásico-de-Lenguaje-Natural)\n",
    "\n",
    "- [**Bolsa de palabras**]()\n",
    "\n",
    "- [**codificación tf-idf**]()\n",
    "\n",
    "- [**Análisis de Componentes Principales: semántica latente**]()"
   ]
  },
  {
   "cell_type": "markdown",
   "metadata": {
    "slideshow": {
     "slide_type": "slide"
    },
    "tags": []
   },
   "source": [
    "<figure>\n",
    "<img src=\"../Imagenes/logo-final-ap.png\"  width=\"80\" height=\"80\" align=\"left\"/> \n",
    "</figure>\n",
    "\n",
    "# <span style=\"color:red\"><center>Introducción al Aprendizaje Profundo</center></span>"
   ]
  },
  {
   "cell_type": "markdown",
   "metadata": {
    "slideshow": {
     "slide_type": "subslide"
    },
    "tags": []
   },
   "source": [
    "## <span style=\"color:blue\"> ¿Qué es una Red Neuronal? </span>"
   ]
  },
  {
   "cell_type": "markdown",
   "metadata": {
    "slideshow": {
     "slide_type": "subslide"
    },
    "tags": []
   },
   "source": [
    "![Neurona](../Imagenes/Structure-Of-Neurons-In-Brain.jpg)\n",
    "\n",
    "\n",
    "Fuente: [Artificial Neural Networks Applications and Algorithms](https://www.xenonstack.com/blog/artificial-neural-network-applications/)"
   ]
  },
  {
   "cell_type": "markdown",
   "metadata": {
    "jp-MarkdownHeadingCollapsed": true,
    "slideshow": {
     "slide_type": "subslide"
    },
    "tags": []
   },
   "source": [
    "## Red Neuronal Biológica\n",
    "\n",
    "![Red_Neuronal](../Imagenes/red_neuronal_biologica.jpg)\n",
    "\n",
    "Fuente: [Universidad Internacional](https://blogs.uninter.edu.mx/ESCAT/wp-content/uploads/2020/06/la-quimica-es-la-clave-de-la-comunicacion-neuronal_59283341_1280x960.jpg)"
   ]
  },
  {
   "cell_type": "markdown",
   "metadata": {
    "slideshow": {
     "slide_type": "subslide"
    },
    "tags": []
   },
   "source": [
    "## <span style=\"color:blue\"> ¿Qué es una Red Neuronal Artificial? </span>"
   ]
  },
  {
   "cell_type": "markdown",
   "metadata": {
    "slideshow": {
     "slide_type": "subslide"
    },
    "tags": []
   },
   "source": [
    "![Neurona](../Imagenes/Analogy_of_Biological_Network_with_Artificial_Neural_Network.jpg)\n",
    "\n",
    "Fuente: [Artificial Neural Networks Applications and Algorithms](https://www.xenonstack.com/blog/artificial-neural-network-applications/)"
   ]
  },
  {
   "cell_type": "markdown",
   "metadata": {
    "slideshow": {
     "slide_type": "subslide"
    },
    "tags": []
   },
   "source": [
    "## Red Neuronal Artificial\n",
    "\n",
    "![Red_Neuronal](../Imagenes/ANN_Capa_Oculta.png)\n",
    "\n",
    "Fuente: Álvaro Montenegro"
   ]
  },
  {
   "cell_type": "markdown",
   "metadata": {
    "slideshow": {
     "slide_type": "subslide"
    },
    "tags": []
   },
   "source": [
    "## Una RNA es una función vectorial"
   ]
  },
  {
   "cell_type": "markdown",
   "metadata": {},
   "source": [
    "De la ecuación de la sección anterior tenemos que un RNA es una función $f:\\mathcal{R}^n \\to \\mathcal{R}^L$, definida como\n",
    "\n",
    "$$\n",
    "y = f(x)  = f^2(f^1( x W^1 + b^1 ) W^2 + b^2).\n",
    "$$\n",
    "\n",
    "$\\leadsto$ Como puede verse, si la RNA tiene más de una capa oculta, la función $f$ puede ser extendida directamente de forma recursiva."
   ]
  },
  {
   "cell_type": "markdown",
   "metadata": {
    "slideshow": {
     "slide_type": "slide"
    },
    "tags": []
   },
   "source": [
    "<figure>\n",
    "<img src=\"../Imagenes/logo-final-ap.png\"  width=\"80\" height=\"80\" align=\"left\"/> \n",
    "</figure>\n",
    "\n",
    "# <span style=\"color:red\"><center>Introducción al Tratamiento clásico de Lenguaje Natural</center></span>"
   ]
  },
  {
   "cell_type": "markdown",
   "metadata": {
    "slideshow": {
     "slide_type": "subslide"
    },
    "tags": []
   },
   "source": [
    "## <span style=\"color:blue\">Caja de Herramientas Básica (Pre-procesamiento) </span>\n",
    "\n",
    "<br></br>"
   ]
  },
  {
   "cell_type": "markdown",
   "metadata": {
    "tags": []
   },
   "source": [
    "1. **Limpieza inicial dependiendo de la forma de obtener los datos (Ej. HTML)**\n",
    "\n",
    "2. **Estandarización de la información**\n",
    "\n",
    "    - Lematización (palabras y sus flexiones morfológicas en una sola forma).\n",
    "    - Convertir a formato de minúsculas. (Ej. **Para = para**).\n",
    "    - Eliminar signos de puntuación.\n",
    "    - Eliminación de dígitos.\n",
    "    - Eliminación de palabras vacías (Stopwords)."
   ]
  },
  {
   "cell_type": "markdown",
   "metadata": {
    "slideshow": {
     "slide_type": "subslide"
    },
    "tags": []
   },
   "source": [
    "## Ejemplo\n",
    "\n",
    "<br></br>"
   ]
  },
  {
   "cell_type": "markdown",
   "metadata": {
    "tags": []
   },
   "source": [
    "![Frase](../Imagenes/William_Blake.png)\n",
    "\n",
    "Fuente: [akifrases](https://akifrases.com/frase/202124)"
   ]
  },
  {
   "cell_type": "markdown",
   "metadata": {
    "tags": []
   },
   "source": [
    "**Texto Minado de la Web:**\n",
    "\n",
    "\n",
    "\n",
    "`<div class=\"quoteText2\">“<a href=\"/frase/202124\" class=\"qlink\">Ver un mundo en un grano de arena y un cielo en una flor silvestre, tener el infinito en la palma de la mano y la Eternidad en una hora.</a> <br><div class=\"qauthor\">  ― <a href=\"/autor/william-blake\">William Blake</a></div></div>`"
   ]
  },
  {
   "cell_type": "markdown",
   "metadata": {
    "slideshow": {
     "slide_type": "subslide"
    },
    "tags": []
   },
   "source": [
    "**1. Limpieza Inicial**\n",
    "\n",
    "\n",
    "\n",
    "<center>Ver un mundo en un grano de arena y un cielo en una flor silvestre, tener el infinito en la palma de la mano y la Eternidad en una hora.</center>"
   ]
  },
  {
   "cell_type": "markdown",
   "metadata": {
    "slideshow": {
     "slide_type": "subslide"
    },
    "tags": []
   },
   "source": [
    "**2. Estandarización de la información**\n",
    "\n",
    "- Lematización\n",
    "\n",
    "<center>Ver uno mundo en uno grano de arena y uno cielo en uno flor silvestre, tener el infinito en el palma de el mano y el Eternidad en uno hora .</center>"
   ]
  },
  {
   "cell_type": "markdown",
   "metadata": {
    "slideshow": {
     "slide_type": "subslide"
    },
    "tags": []
   },
   "source": [
    "**2. Estandarización de la información**\n",
    "\n",
    "- Convertir Formato a Minúsculas\n",
    "\n",
    "<center>ver uno mundo en uno grano de arena y uno cielo en uno flor silvestre, tener el infinito en el palma de el mano y el eternidad en uno hora .</center>"
   ]
  },
  {
   "cell_type": "markdown",
   "metadata": {
    "slideshow": {
     "slide_type": "subslide"
    },
    "tags": []
   },
   "source": [
    "**2. Estandarización de la información**\n",
    "\n",
    "- Eliminar signos de Puntuación\n",
    "\n",
    "<center>ver uno mundo en uno grano de arena y uno cielo en uno flor silvestre tener el infinito en el palma de el mano y el eternidad en uno hora</center>"
   ]
  },
  {
   "cell_type": "markdown",
   "metadata": {
    "slideshow": {
     "slide_type": "subslide"
    },
    "tags": []
   },
   "source": [
    "**2. Estandarización de la información**\n",
    "\n",
    "- Eliminar palabras Vacías (**StopWords**)\n",
    "\n",
    "<center>mundo grano arena cielo flor silvestre infinito palma mano eternidad hora</center>"
   ]
  },
  {
   "cell_type": "code",
   "execution_count": 2,
   "metadata": {
    "slideshow": {
     "slide_type": "skip"
    },
    "tags": []
   },
   "outputs": [
    {
     "name": "stderr",
     "output_type": "stream",
     "text": [
      "2021-09-04 15:19:15 INFO: Loading these models for language: es (Spanish):\n",
      "=======================\n",
      "| Processor | Package |\n",
      "-----------------------\n",
      "| tokenize  | ancora  |\n",
      "| mwt       | ancora  |\n",
      "| pos       | ancora  |\n",
      "| lemma     | ancora  |\n",
      "=======================\n",
      "\n",
      "2021-09-04 15:19:15 INFO: Use device: cpu\n",
      "2021-09-04 15:19:15 INFO: Loading: tokenize\n",
      "2021-09-04 15:19:16 INFO: Loading: mwt\n",
      "2021-09-04 15:19:16 INFO: Loading: pos\n",
      "2021-09-04 15:19:18 INFO: Loading: lemma\n",
      "2021-09-04 15:19:18 INFO: Done loading processors!\n"
     ]
    }
   ],
   "source": [
    "import stanza\n",
    "nlp = stanza.Pipeline(lang='es', processors='tokenize,mwt,pos,lemma')\n",
    "texto = 'Ver un mundo en un grano de arena y un cielo en una flor silvestre, tener el infinito en la palma de la mano y la Eternidad en una hora.'\n",
    "partes = nlp(texto)\n",
    "texto_lema = ' '.join([lema.lemma for lema in nlp(texto).sentences[0].words])\n",
    "texto_lema\n",
    "texto_lema = texto_lema.lower()\n",
    "texto_lema\n",
    "import re\n",
    "texto_lema_limpio = re.sub('[^\\w\\s]',' ',texto_lema)\n",
    "texto_lema_limpio\n",
    "# Importar stopwords con nltk\n",
    "from nltk.corpus import stopwords\n",
    "import es_core_news_sm\n",
    "\n",
    "# Número de stopwords en nltk\n",
    "stop_nltk = stopwords.words('spanish')\n",
    "#print(\"nltk :\",len(stop_nltk))\n",
    "\n",
    "# Número de stopwords en spacy\n",
    "nlp = es_core_news_sm.load()\n",
    "stop_spacy = nlp.Defaults.stop_words\n",
    "#print(\"spacy:\", len(stop_spacy))\n",
    "\n",
    "# Sacar lo mejor de todas las librerías (sin duplicados)\n",
    "stop_todas = list(stop_spacy.union(set(stop_nltk)))\n",
    "\n",
    "# Número de stopwords en nltk + spacy\n",
    "#print(\"Todas:\", len(stop_todas),'\\n')\n",
    "\n",
    "#print('Palabras:\\n')\n",
    "# Organizar en orden alfabético\n",
    "#bstop_todas.sort()\n",
    "#print(stop_todas)\n",
    "' '.join([word for word in texto_lema_limpio.split() if word not in (stop_todas)])"
   ]
  },
  {
   "cell_type": "markdown",
   "metadata": {
    "slideshow": {
     "slide_type": "subslide"
    },
    "tags": []
   },
   "source": [
    "**Resumen**\n",
    "\n",
    "Hemos convertido\n",
    "\n",
    "`<div class=\"quoteText2\">“<a href=\"/frase/202124\" class=\"qlink\">Ver un mundo en un grano de arena y un cielo en una flor silvestre, tener el infinito en la palma de la mano y la Eternidad en una hora.</a> <br><div class=\"qauthor\">  ― <a href=\"/autor/william-blake\">William Blake</a></div></div>`\n",
    "\n",
    "En:\n",
    "\n",
    "<center>mundo grano arena cielo flor silvestre infinito palma mano eternidad hora</center>"
   ]
  },
  {
   "cell_type": "code",
   "execution_count": 52,
   "metadata": {
    "slideshow": {
     "slide_type": "skip"
    },
    "tags": []
   },
   "outputs": [
    {
     "name": "stderr",
     "output_type": "stream",
     "text": [
      "/tmp/ipykernel_34955/3981855269.py:15: FutureWarning: The default value of regex will change from True to False in a future version.\n",
      "  df['documento preprocesado'] = df['documento preprocesado'].str.replace('[^\\w\\s]','')\n"
     ]
    },
    {
     "data": {
      "text/html": [
       "<div>\n",
       "<style scoped>\n",
       "    .dataframe tbody tr th:only-of-type {\n",
       "        vertical-align: middle;\n",
       "    }\n",
       "\n",
       "    .dataframe tbody tr th {\n",
       "        vertical-align: top;\n",
       "    }\n",
       "\n",
       "    .dataframe thead th {\n",
       "        text-align: right;\n",
       "    }\n",
       "</style>\n",
       "<table border=\"1\" class=\"dataframe\">\n",
       "  <thead>\n",
       "    <tr style=\"text-align: right;\">\n",
       "      <th></th>\n",
       "      <th>documento</th>\n",
       "      <th>documento preprocesado</th>\n",
       "    </tr>\n",
       "  </thead>\n",
       "  <tbody>\n",
       "    <tr>\n",
       "      <th>0</th>\n",
       "      <td>Ver un mundo en un grano de arena y un cielo e...</td>\n",
       "      <td>mundo grano arena cielo flor silvestre infinit...</td>\n",
       "    </tr>\n",
       "    <tr>\n",
       "      <th>1</th>\n",
       "      <td>Hola, estoy aquí buscando un árbol dónde vivir.</td>\n",
       "      <td>hola buscar arbol vivir</td>\n",
       "    </tr>\n",
       "    <tr>\n",
       "      <th>2</th>\n",
       "      <td>La noche está constelada y tu no estàs conmigo.</td>\n",
       "      <td>noche constelado</td>\n",
       "    </tr>\n",
       "    <tr>\n",
       "      <th>3</th>\n",
       "      <td>Eres toda mi verdad, eclipsada por el mar.</td>\n",
       "      <td>eclipsado mar</td>\n",
       "    </tr>\n",
       "    <tr>\n",
       "      <th>4</th>\n",
       "      <td>En mi diario de nostalgìas, buscábamos el desv...</td>\n",
       "      <td>diario nostalgìas buscar desvanecimiento espir...</td>\n",
       "    </tr>\n",
       "    <tr>\n",
       "      <th>5</th>\n",
       "      <td>La ama de llaves está muy frita.</td>\n",
       "      <td>ama llave frito</td>\n",
       "    </tr>\n",
       "  </tbody>\n",
       "</table>\n",
       "</div>"
      ],
      "text/plain": [
       "                                           documento  \\\n",
       "0  Ver un mundo en un grano de arena y un cielo e...   \n",
       "1    Hola, estoy aquí buscando un árbol dónde vivir.   \n",
       "2    La noche está constelada y tu no estàs conmigo.   \n",
       "3         Eres toda mi verdad, eclipsada por el mar.   \n",
       "4  En mi diario de nostalgìas, buscábamos el desv...   \n",
       "5                   La ama de llaves está muy frita.   \n",
       "\n",
       "                              documento preprocesado  \n",
       "0  mundo grano arena cielo flor silvestre infinit...  \n",
       "1                            hola buscar arbol vivir  \n",
       "2                                   noche constelado  \n",
       "3                                      eclipsado mar  \n",
       "4  diario nostalgìas buscar desvanecimiento espir...  \n",
       "5                                    ama llave frito  "
      ]
     },
     "execution_count": 52,
     "metadata": {},
     "output_type": "execute_result"
    }
   ],
   "source": [
    "import pandas as pd\n",
    "\n",
    "corpus = ['Ver un mundo en un grano de arena y un cielo en una flor silvestre, tener el infinito en la palma de la mano y la Eternidad en una hora.',\\\n",
    "          'Hola, estoy aquí buscando un árbol dónde vivir.',\\\n",
    "          'La noche está constelada y tu no estàs conmigo.',\\\n",
    "          'Eres toda mi verdad, eclipsada por el mar.',\\\n",
    "          'En mi diario de nostalgìas, buscábamos el desvanecimiento espiritual.',\\\n",
    "          'La ama de llaves está muy frita.']\n",
    "\n",
    "df=pd.DataFrame(corpus,columns=['documento'])\n",
    "\n",
    "df['documento preprocesado'] = df.apply(lambda row:  ' '.join(lema.lemma for lema in nlp(row['documento']).sentences[0].words), axis=1)\n",
    "df['documento preprocesado'] = df['documento preprocesado'].str.lower()\n",
    "df['documento preprocesado'] = df['documento preprocesado'].replace(list('áéíóú'),list('aeiou'),regex=True)\n",
    "df['documento preprocesado'] = df['documento preprocesado'].str.replace('[^\\w\\s]','')\n",
    "df['documento preprocesado']=df['documento preprocesado'].apply(lambda x: ' '.join([word for word in x.split() if word not in (stop_todas)]))\n",
    "df"
   ]
  },
  {
   "cell_type": "markdown",
   "metadata": {
    "slideshow": {
     "slide_type": "subslide"
    },
    "tags": []
   },
   "source": [
    "**Imagen General**\n",
    "\n",
    "Minemos más textos:"
   ]
  },
  {
   "cell_type": "code",
   "execution_count": 74,
   "metadata": {},
   "outputs": [
    {
     "data": {
      "text/html": [
       "<div>\n",
       "<style scoped>\n",
       "    .dataframe tbody tr th:only-of-type {\n",
       "        vertical-align: middle;\n",
       "    }\n",
       "\n",
       "    .dataframe tbody tr th {\n",
       "        vertical-align: top;\n",
       "    }\n",
       "\n",
       "    .dataframe thead th {\n",
       "        text-align: right;\n",
       "    }\n",
       "</style>\n",
       "<table border=\"1\" class=\"dataframe\">\n",
       "  <thead>\n",
       "    <tr style=\"text-align: right;\">\n",
       "      <th></th>\n",
       "      <th>documento</th>\n",
       "      <th>documento preprocesado</th>\n",
       "    </tr>\n",
       "  </thead>\n",
       "  <tbody>\n",
       "    <tr>\n",
       "      <th>0</th>\n",
       "      <td>Ver un mundo en un grano de arena y un cielo e...</td>\n",
       "      <td>mundo grano arena cielo flor silvestre infinit...</td>\n",
       "    </tr>\n",
       "    <tr>\n",
       "      <th>1</th>\n",
       "      <td>Hola, estoy aquí buscando un árbol dónde vivir.</td>\n",
       "      <td>hola buscar arbol vivir</td>\n",
       "    </tr>\n",
       "    <tr>\n",
       "      <th>2</th>\n",
       "      <td>La noche está constelada y tu no estàs conmigo.</td>\n",
       "      <td>noche constelado</td>\n",
       "    </tr>\n",
       "    <tr>\n",
       "      <th>3</th>\n",
       "      <td>Eres toda mi verdad, eclipsada por el mar.</td>\n",
       "      <td>eclipsado mar</td>\n",
       "    </tr>\n",
       "    <tr>\n",
       "      <th>4</th>\n",
       "      <td>En mi diario de nostalgìas, buscábamos el desv...</td>\n",
       "      <td>diario nostalgìas buscar desvanecimiento espir...</td>\n",
       "    </tr>\n",
       "    <tr>\n",
       "      <th>5</th>\n",
       "      <td>La ama de llaves está muy frita.</td>\n",
       "      <td>ama llave frito</td>\n",
       "    </tr>\n",
       "  </tbody>\n",
       "</table>\n",
       "</div>"
      ],
      "text/plain": [
       "                                           documento  \\\n",
       "0  Ver un mundo en un grano de arena y un cielo e...   \n",
       "1    Hola, estoy aquí buscando un árbol dónde vivir.   \n",
       "2    La noche está constelada y tu no estàs conmigo.   \n",
       "3         Eres toda mi verdad, eclipsada por el mar.   \n",
       "4  En mi diario de nostalgìas, buscábamos el desv...   \n",
       "5                   La ama de llaves está muy frita.   \n",
       "\n",
       "                              documento preprocesado  \n",
       "0  mundo grano arena cielo flor silvestre infinit...  \n",
       "1                            hola buscar arbol vivir  \n",
       "2                                   noche constelado  \n",
       "3                                      eclipsado mar  \n",
       "4  diario nostalgìas buscar desvanecimiento espir...  \n",
       "5                                    ama llave frito  "
      ]
     },
     "execution_count": 74,
     "metadata": {},
     "output_type": "execute_result"
    }
   ],
   "source": [
    "df"
   ]
  },
  {
   "cell_type": "markdown",
   "metadata": {
    "slideshow": {
     "slide_type": "slide"
    },
    "tags": []
   },
   "source": [
    "<figure>\n",
    "<img src=\"../Imagenes/logo-final-ap.png\"  width=\"80\" height=\"80\" align=\"left\"/> \n",
    "</figure>\n",
    "\n",
    "# <span style=\"color:red\"><center>Bolsa de Palabras (BOW)</center></span>"
   ]
  },
  {
   "cell_type": "code",
   "execution_count": 54,
   "metadata": {
    "slideshow": {
     "slide_type": "skip"
    },
    "tags": []
   },
   "outputs": [
    {
     "data": {
      "text/html": [
       "<div>\n",
       "<style scoped>\n",
       "    .dataframe tbody tr th:only-of-type {\n",
       "        vertical-align: middle;\n",
       "    }\n",
       "\n",
       "    .dataframe tbody tr th {\n",
       "        vertical-align: top;\n",
       "    }\n",
       "\n",
       "    .dataframe thead th {\n",
       "        text-align: right;\n",
       "    }\n",
       "</style>\n",
       "<table border=\"1\" class=\"dataframe\">\n",
       "  <thead>\n",
       "    <tr style=\"text-align: right;\">\n",
       "      <th></th>\n",
       "      <th>ama</th>\n",
       "      <th>arbol</th>\n",
       "      <th>arena</th>\n",
       "      <th>buscar</th>\n",
       "      <th>cielo</th>\n",
       "      <th>constelado</th>\n",
       "      <th>desvanecimiento</th>\n",
       "      <th>diario</th>\n",
       "      <th>eclipsado</th>\n",
       "      <th>espiritual</th>\n",
       "      <th>...</th>\n",
       "      <th>infinito</th>\n",
       "      <th>llave</th>\n",
       "      <th>mano</th>\n",
       "      <th>mar</th>\n",
       "      <th>mundo</th>\n",
       "      <th>noche</th>\n",
       "      <th>nostalgìas</th>\n",
       "      <th>palma</th>\n",
       "      <th>silvestre</th>\n",
       "      <th>vivir</th>\n",
       "    </tr>\n",
       "  </thead>\n",
       "  <tbody>\n",
       "    <tr>\n",
       "      <th>0</th>\n",
       "      <td>0</td>\n",
       "      <td>0</td>\n",
       "      <td>1</td>\n",
       "      <td>0</td>\n",
       "      <td>1</td>\n",
       "      <td>0</td>\n",
       "      <td>0</td>\n",
       "      <td>0</td>\n",
       "      <td>0</td>\n",
       "      <td>0</td>\n",
       "      <td>...</td>\n",
       "      <td>1</td>\n",
       "      <td>0</td>\n",
       "      <td>1</td>\n",
       "      <td>0</td>\n",
       "      <td>1</td>\n",
       "      <td>0</td>\n",
       "      <td>0</td>\n",
       "      <td>1</td>\n",
       "      <td>1</td>\n",
       "      <td>0</td>\n",
       "    </tr>\n",
       "    <tr>\n",
       "      <th>1</th>\n",
       "      <td>0</td>\n",
       "      <td>1</td>\n",
       "      <td>0</td>\n",
       "      <td>1</td>\n",
       "      <td>0</td>\n",
       "      <td>0</td>\n",
       "      <td>0</td>\n",
       "      <td>0</td>\n",
       "      <td>0</td>\n",
       "      <td>0</td>\n",
       "      <td>...</td>\n",
       "      <td>0</td>\n",
       "      <td>0</td>\n",
       "      <td>0</td>\n",
       "      <td>0</td>\n",
       "      <td>0</td>\n",
       "      <td>0</td>\n",
       "      <td>0</td>\n",
       "      <td>0</td>\n",
       "      <td>0</td>\n",
       "      <td>1</td>\n",
       "    </tr>\n",
       "    <tr>\n",
       "      <th>2</th>\n",
       "      <td>0</td>\n",
       "      <td>0</td>\n",
       "      <td>0</td>\n",
       "      <td>0</td>\n",
       "      <td>0</td>\n",
       "      <td>1</td>\n",
       "      <td>0</td>\n",
       "      <td>0</td>\n",
       "      <td>0</td>\n",
       "      <td>0</td>\n",
       "      <td>...</td>\n",
       "      <td>0</td>\n",
       "      <td>0</td>\n",
       "      <td>0</td>\n",
       "      <td>0</td>\n",
       "      <td>0</td>\n",
       "      <td>1</td>\n",
       "      <td>0</td>\n",
       "      <td>0</td>\n",
       "      <td>0</td>\n",
       "      <td>0</td>\n",
       "    </tr>\n",
       "    <tr>\n",
       "      <th>3</th>\n",
       "      <td>0</td>\n",
       "      <td>0</td>\n",
       "      <td>0</td>\n",
       "      <td>0</td>\n",
       "      <td>0</td>\n",
       "      <td>0</td>\n",
       "      <td>0</td>\n",
       "      <td>0</td>\n",
       "      <td>1</td>\n",
       "      <td>0</td>\n",
       "      <td>...</td>\n",
       "      <td>0</td>\n",
       "      <td>0</td>\n",
       "      <td>0</td>\n",
       "      <td>1</td>\n",
       "      <td>0</td>\n",
       "      <td>0</td>\n",
       "      <td>0</td>\n",
       "      <td>0</td>\n",
       "      <td>0</td>\n",
       "      <td>0</td>\n",
       "    </tr>\n",
       "    <tr>\n",
       "      <th>4</th>\n",
       "      <td>0</td>\n",
       "      <td>0</td>\n",
       "      <td>0</td>\n",
       "      <td>1</td>\n",
       "      <td>0</td>\n",
       "      <td>0</td>\n",
       "      <td>1</td>\n",
       "      <td>1</td>\n",
       "      <td>0</td>\n",
       "      <td>1</td>\n",
       "      <td>...</td>\n",
       "      <td>0</td>\n",
       "      <td>0</td>\n",
       "      <td>0</td>\n",
       "      <td>0</td>\n",
       "      <td>0</td>\n",
       "      <td>0</td>\n",
       "      <td>1</td>\n",
       "      <td>0</td>\n",
       "      <td>0</td>\n",
       "      <td>0</td>\n",
       "    </tr>\n",
       "    <tr>\n",
       "      <th>5</th>\n",
       "      <td>1</td>\n",
       "      <td>0</td>\n",
       "      <td>0</td>\n",
       "      <td>0</td>\n",
       "      <td>0</td>\n",
       "      <td>0</td>\n",
       "      <td>0</td>\n",
       "      <td>0</td>\n",
       "      <td>0</td>\n",
       "      <td>0</td>\n",
       "      <td>...</td>\n",
       "      <td>0</td>\n",
       "      <td>1</td>\n",
       "      <td>0</td>\n",
       "      <td>0</td>\n",
       "      <td>0</td>\n",
       "      <td>0</td>\n",
       "      <td>0</td>\n",
       "      <td>0</td>\n",
       "      <td>0</td>\n",
       "      <td>0</td>\n",
       "    </tr>\n",
       "  </tbody>\n",
       "</table>\n",
       "<p>6 rows × 26 columns</p>\n",
       "</div>"
      ],
      "text/plain": [
       "   ama  arbol  arena  buscar  cielo  constelado  desvanecimiento  diario  \\\n",
       "0    0      0      1       0      1           0                0       0   \n",
       "1    0      1      0       1      0           0                0       0   \n",
       "2    0      0      0       0      0           1                0       0   \n",
       "3    0      0      0       0      0           0                0       0   \n",
       "4    0      0      0       1      0           0                1       1   \n",
       "5    1      0      0       0      0           0                0       0   \n",
       "\n",
       "   eclipsado  espiritual  ...  infinito  llave  mano  mar  mundo  noche  \\\n",
       "0          0           0  ...         1      0     1    0      1      0   \n",
       "1          0           0  ...         0      0     0    0      0      0   \n",
       "2          0           0  ...         0      0     0    0      0      1   \n",
       "3          1           0  ...         0      0     0    1      0      0   \n",
       "4          0           1  ...         0      0     0    0      0      0   \n",
       "5          0           0  ...         0      1     0    0      0      0   \n",
       "\n",
       "   nostalgìas  palma  silvestre  vivir  \n",
       "0           0      1          1      0  \n",
       "1           0      0          0      1  \n",
       "2           0      0          0      0  \n",
       "3           0      0          0      0  \n",
       "4           1      0          0      0  \n",
       "5           0      0          0      0  \n",
       "\n",
       "[6 rows x 26 columns]"
      ]
     },
     "execution_count": 54,
     "metadata": {},
     "output_type": "execute_result"
    }
   ],
   "source": [
    "from sklearn.feature_extraction.text import CountVectorizer\n",
    "\n",
    "vectorizer = CountVectorizer(binary=True)\n",
    "\n",
    "X = vectorizer.fit_transform(df['documento preprocesado'].values)\n",
    "\n",
    "dtm = pd.DataFrame(X.toarray(),columns = vectorizer.get_feature_names())\n",
    "\n",
    "dtm"
   ]
  },
  {
   "cell_type": "markdown",
   "metadata": {
    "slideshow": {
     "slide_type": "subslide"
    },
    "tags": []
   },
   "source": [
    "## <span style=\"color:blue\"> Matriz de Documento-Término (DTM) </span>"
   ]
  },
  {
   "cell_type": "markdown",
   "metadata": {
    "slideshow": {
     "slide_type": "subslide"
    },
    "tags": []
   },
   "source": [
    "Recordemos nuestros documentos:"
   ]
  },
  {
   "cell_type": "code",
   "execution_count": 55,
   "metadata": {
    "tags": []
   },
   "outputs": [
    {
     "data": {
      "text/html": [
       "<div>\n",
       "<style scoped>\n",
       "    .dataframe tbody tr th:only-of-type {\n",
       "        vertical-align: middle;\n",
       "    }\n",
       "\n",
       "    .dataframe tbody tr th {\n",
       "        vertical-align: top;\n",
       "    }\n",
       "\n",
       "    .dataframe thead th {\n",
       "        text-align: right;\n",
       "    }\n",
       "</style>\n",
       "<table border=\"1\" class=\"dataframe\">\n",
       "  <thead>\n",
       "    <tr style=\"text-align: right;\">\n",
       "      <th></th>\n",
       "      <th>documento</th>\n",
       "      <th>documento preprocesado</th>\n",
       "    </tr>\n",
       "  </thead>\n",
       "  <tbody>\n",
       "    <tr>\n",
       "      <th>0</th>\n",
       "      <td>Ver un mundo en un grano de arena y un cielo e...</td>\n",
       "      <td>mundo grano arena cielo flor silvestre infinit...</td>\n",
       "    </tr>\n",
       "    <tr>\n",
       "      <th>1</th>\n",
       "      <td>Hola, estoy aquí buscando un árbol dónde vivir.</td>\n",
       "      <td>hola buscar arbol vivir</td>\n",
       "    </tr>\n",
       "    <tr>\n",
       "      <th>2</th>\n",
       "      <td>La noche está constelada y tu no estàs conmigo.</td>\n",
       "      <td>noche constelado</td>\n",
       "    </tr>\n",
       "    <tr>\n",
       "      <th>3</th>\n",
       "      <td>Eres toda mi verdad, eclipsada por el mar.</td>\n",
       "      <td>eclipsado mar</td>\n",
       "    </tr>\n",
       "    <tr>\n",
       "      <th>4</th>\n",
       "      <td>En mi diario de nostalgìas, buscábamos el desv...</td>\n",
       "      <td>diario nostalgìas buscar desvanecimiento espir...</td>\n",
       "    </tr>\n",
       "    <tr>\n",
       "      <th>5</th>\n",
       "      <td>La ama de llaves está muy frita.</td>\n",
       "      <td>ama llave frito</td>\n",
       "    </tr>\n",
       "  </tbody>\n",
       "</table>\n",
       "</div>"
      ],
      "text/plain": [
       "                                           documento  \\\n",
       "0  Ver un mundo en un grano de arena y un cielo e...   \n",
       "1    Hola, estoy aquí buscando un árbol dónde vivir.   \n",
       "2    La noche está constelada y tu no estàs conmigo.   \n",
       "3         Eres toda mi verdad, eclipsada por el mar.   \n",
       "4  En mi diario de nostalgìas, buscábamos el desv...   \n",
       "5                   La ama de llaves está muy frita.   \n",
       "\n",
       "                              documento preprocesado  \n",
       "0  mundo grano arena cielo flor silvestre infinit...  \n",
       "1                            hola buscar arbol vivir  \n",
       "2                                   noche constelado  \n",
       "3                                      eclipsado mar  \n",
       "4  diario nostalgìas buscar desvanecimiento espir...  \n",
       "5                                    ama llave frito  "
      ]
     },
     "execution_count": 55,
     "metadata": {},
     "output_type": "execute_result"
    }
   ],
   "source": [
    "df"
   ]
  },
  {
   "cell_type": "markdown",
   "metadata": {},
   "source": [
    "Podemos determinar (**Luego del preprocesamiento**) si una palabra aparece o no en cada texto:"
   ]
  },
  {
   "cell_type": "code",
   "execution_count": 56,
   "metadata": {
    "tags": []
   },
   "outputs": [
    {
     "data": {
      "text/html": [
       "<div>\n",
       "<style scoped>\n",
       "    .dataframe tbody tr th:only-of-type {\n",
       "        vertical-align: middle;\n",
       "    }\n",
       "\n",
       "    .dataframe tbody tr th {\n",
       "        vertical-align: top;\n",
       "    }\n",
       "\n",
       "    .dataframe thead th {\n",
       "        text-align: right;\n",
       "    }\n",
       "</style>\n",
       "<table border=\"1\" class=\"dataframe\">\n",
       "  <thead>\n",
       "    <tr style=\"text-align: right;\">\n",
       "      <th></th>\n",
       "      <th>ama</th>\n",
       "      <th>arbol</th>\n",
       "      <th>arena</th>\n",
       "      <th>buscar</th>\n",
       "      <th>cielo</th>\n",
       "      <th>constelado</th>\n",
       "      <th>desvanecimiento</th>\n",
       "      <th>diario</th>\n",
       "      <th>eclipsado</th>\n",
       "      <th>espiritual</th>\n",
       "      <th>...</th>\n",
       "      <th>infinito</th>\n",
       "      <th>llave</th>\n",
       "      <th>mano</th>\n",
       "      <th>mar</th>\n",
       "      <th>mundo</th>\n",
       "      <th>noche</th>\n",
       "      <th>nostalgìas</th>\n",
       "      <th>palma</th>\n",
       "      <th>silvestre</th>\n",
       "      <th>vivir</th>\n",
       "    </tr>\n",
       "  </thead>\n",
       "  <tbody>\n",
       "    <tr>\n",
       "      <th>0</th>\n",
       "      <td>0</td>\n",
       "      <td>0</td>\n",
       "      <td>1</td>\n",
       "      <td>0</td>\n",
       "      <td>1</td>\n",
       "      <td>0</td>\n",
       "      <td>0</td>\n",
       "      <td>0</td>\n",
       "      <td>0</td>\n",
       "      <td>0</td>\n",
       "      <td>...</td>\n",
       "      <td>1</td>\n",
       "      <td>0</td>\n",
       "      <td>1</td>\n",
       "      <td>0</td>\n",
       "      <td>1</td>\n",
       "      <td>0</td>\n",
       "      <td>0</td>\n",
       "      <td>1</td>\n",
       "      <td>1</td>\n",
       "      <td>0</td>\n",
       "    </tr>\n",
       "    <tr>\n",
       "      <th>1</th>\n",
       "      <td>0</td>\n",
       "      <td>1</td>\n",
       "      <td>0</td>\n",
       "      <td>1</td>\n",
       "      <td>0</td>\n",
       "      <td>0</td>\n",
       "      <td>0</td>\n",
       "      <td>0</td>\n",
       "      <td>0</td>\n",
       "      <td>0</td>\n",
       "      <td>...</td>\n",
       "      <td>0</td>\n",
       "      <td>0</td>\n",
       "      <td>0</td>\n",
       "      <td>0</td>\n",
       "      <td>0</td>\n",
       "      <td>0</td>\n",
       "      <td>0</td>\n",
       "      <td>0</td>\n",
       "      <td>0</td>\n",
       "      <td>1</td>\n",
       "    </tr>\n",
       "    <tr>\n",
       "      <th>2</th>\n",
       "      <td>0</td>\n",
       "      <td>0</td>\n",
       "      <td>0</td>\n",
       "      <td>0</td>\n",
       "      <td>0</td>\n",
       "      <td>1</td>\n",
       "      <td>0</td>\n",
       "      <td>0</td>\n",
       "      <td>0</td>\n",
       "      <td>0</td>\n",
       "      <td>...</td>\n",
       "      <td>0</td>\n",
       "      <td>0</td>\n",
       "      <td>0</td>\n",
       "      <td>0</td>\n",
       "      <td>0</td>\n",
       "      <td>1</td>\n",
       "      <td>0</td>\n",
       "      <td>0</td>\n",
       "      <td>0</td>\n",
       "      <td>0</td>\n",
       "    </tr>\n",
       "    <tr>\n",
       "      <th>3</th>\n",
       "      <td>0</td>\n",
       "      <td>0</td>\n",
       "      <td>0</td>\n",
       "      <td>0</td>\n",
       "      <td>0</td>\n",
       "      <td>0</td>\n",
       "      <td>0</td>\n",
       "      <td>0</td>\n",
       "      <td>1</td>\n",
       "      <td>0</td>\n",
       "      <td>...</td>\n",
       "      <td>0</td>\n",
       "      <td>0</td>\n",
       "      <td>0</td>\n",
       "      <td>1</td>\n",
       "      <td>0</td>\n",
       "      <td>0</td>\n",
       "      <td>0</td>\n",
       "      <td>0</td>\n",
       "      <td>0</td>\n",
       "      <td>0</td>\n",
       "    </tr>\n",
       "    <tr>\n",
       "      <th>4</th>\n",
       "      <td>0</td>\n",
       "      <td>0</td>\n",
       "      <td>0</td>\n",
       "      <td>1</td>\n",
       "      <td>0</td>\n",
       "      <td>0</td>\n",
       "      <td>1</td>\n",
       "      <td>1</td>\n",
       "      <td>0</td>\n",
       "      <td>1</td>\n",
       "      <td>...</td>\n",
       "      <td>0</td>\n",
       "      <td>0</td>\n",
       "      <td>0</td>\n",
       "      <td>0</td>\n",
       "      <td>0</td>\n",
       "      <td>0</td>\n",
       "      <td>1</td>\n",
       "      <td>0</td>\n",
       "      <td>0</td>\n",
       "      <td>0</td>\n",
       "    </tr>\n",
       "    <tr>\n",
       "      <th>5</th>\n",
       "      <td>1</td>\n",
       "      <td>0</td>\n",
       "      <td>0</td>\n",
       "      <td>0</td>\n",
       "      <td>0</td>\n",
       "      <td>0</td>\n",
       "      <td>0</td>\n",
       "      <td>0</td>\n",
       "      <td>0</td>\n",
       "      <td>0</td>\n",
       "      <td>...</td>\n",
       "      <td>0</td>\n",
       "      <td>1</td>\n",
       "      <td>0</td>\n",
       "      <td>0</td>\n",
       "      <td>0</td>\n",
       "      <td>0</td>\n",
       "      <td>0</td>\n",
       "      <td>0</td>\n",
       "      <td>0</td>\n",
       "      <td>0</td>\n",
       "    </tr>\n",
       "  </tbody>\n",
       "</table>\n",
       "<p>6 rows × 26 columns</p>\n",
       "</div>"
      ],
      "text/plain": [
       "   ama  arbol  arena  buscar  cielo  constelado  desvanecimiento  diario  \\\n",
       "0    0      0      1       0      1           0                0       0   \n",
       "1    0      1      0       1      0           0                0       0   \n",
       "2    0      0      0       0      0           1                0       0   \n",
       "3    0      0      0       0      0           0                0       0   \n",
       "4    0      0      0       1      0           0                1       1   \n",
       "5    1      0      0       0      0           0                0       0   \n",
       "\n",
       "   eclipsado  espiritual  ...  infinito  llave  mano  mar  mundo  noche  \\\n",
       "0          0           0  ...         1      0     1    0      1      0   \n",
       "1          0           0  ...         0      0     0    0      0      0   \n",
       "2          0           0  ...         0      0     0    0      0      1   \n",
       "3          1           0  ...         0      0     0    1      0      0   \n",
       "4          0           1  ...         0      0     0    0      0      0   \n",
       "5          0           0  ...         0      1     0    0      0      0   \n",
       "\n",
       "   nostalgìas  palma  silvestre  vivir  \n",
       "0           0      1          1      0  \n",
       "1           0      0          0      1  \n",
       "2           0      0          0      0  \n",
       "3           0      0          0      0  \n",
       "4           1      0          0      0  \n",
       "5           0      0          0      0  \n",
       "\n",
       "[6 rows x 26 columns]"
      ]
     },
     "execution_count": 56,
     "metadata": {},
     "output_type": "execute_result"
    }
   ],
   "source": [
    "dtm"
   ]
  },
  {
   "cell_type": "markdown",
   "metadata": {
    "slideshow": {
     "slide_type": "subslide"
    },
    "tags": []
   },
   "source": [
    "**<center>¡Hemos convertido documentos en números!</center>**\n",
    "\n",
    "**<center>¿Será esto suficiente?</center>**"
   ]
  },
  {
   "cell_type": "markdown",
   "metadata": {
    "slideshow": {
     "slide_type": "slide"
    },
    "tags": []
   },
   "source": [
    "<figure>\n",
    "<img src=\"../Imagenes/logo-final-ap.png\"  width=\"80\" height=\"80\" align=\"left\"/> \n",
    "</figure>\n",
    "\n",
    "# <span style=\"color:red\"><center>Codificación tf-idf</center></span>"
   ]
  },
  {
   "cell_type": "markdown",
   "metadata": {
    "slideshow": {
     "slide_type": "subslide"
    },
    "tags": []
   },
   "source": [
    "**Tf-idf** es el producto de dos medidas, *frecuencia de término* y *frecuencia inversa de documento*. Existen varias maneras de determinar el valor de ambas.  \n",
    "\n",
    "\n",
    "Algunas posibilidades son:\n",
    "\n",
    "- *frecuencias booleanas*: $\\text{tf}(t,d) = 1$ si t ocurre en d, y 0 si no;\n",
    "- *frecuencia escalada logarítmicamente*: $\\text{tf}(t,d) = 1 + \\log f(t,d)$ (y 0 si f(t,d)=0);\n",
    "- *frecuencia normalizada*, para evitar una predisposición hacia los documentos largos. Por ejemplo, se divide la frecuencia bruta por la frecuencia máxima de algún término en el documento:\n",
    "\n",
    "$$\n",
    "{\\displaystyle \\mathrm {tf} (t,d)={\\frac {\\mathrm {f} (t,d)}{\\max\\{\\mathrm {f} (t,d):t\\in d\\}}}}\n",
    "$$"
   ]
  },
  {
   "cell_type": "markdown",
   "metadata": {
    "slideshow": {
     "slide_type": "subslide"
    },
    "tags": []
   },
   "source": [
    "La **frecuencia inversa de documento** es una medida de si el término es común o no, en el corpus de documentos. Se obtiene dividiendo el número total de documentos por el número de documentos que contienen el término, y se toma el logaritmo de ese cociente:\n",
    "\n",
    "$$\n",
    "{\\displaystyle \\mathrm {idf} (t,D)=\\log {\\frac {|D|}{|\\{d\\in D:t\\in d\\}|}}}\n",
    "$$\n",
    "\n",
    "donde\n",
    "\n",
    "- ${\\displaystyle |D|}$: cardinalidad de $D$, o número de documentos en el corpus.\n",
    "- ${\\displaystyle |\\{d\\in D:t\\in d\\}|}$ : número de documentos donde aparece el término $t$. Si el término no está en la colección se producirá una división-por-cero. Por lo tanto, es común ajustar esta fórmula a ${\\displaystyle 1+|\\{d\\in D:t\\in d\\}|}$."
   ]
  },
  {
   "cell_type": "markdown",
   "metadata": {
    "slideshow": {
     "slide_type": "subslide"
    },
    "tags": []
   },
   "source": [
    "# **tf-idf**\n",
    "\n",
    "$$\n",
    "{\\displaystyle \\text{tf-idf} (t,d,D)=\\mathrm {tf} (t,d)\\times \\mathrm {idf} (t,D)}\n",
    "$$\n",
    "\n",
    "Un peso alto en *tf-idf* se alcanza con una elevada frecuencia de término (en el documento dado) y una pequeña frecuencia de ocurrencia del término en corpus de documentos. \n",
    "\n",
    "Como el cociente dentro de la función logaritmo del idf es siempre mayor o igual que 1, el valor del *idf* (y del *tf-idf*) es mayor o igual que 0. \n",
    "\n",
    "Cuando un término aparece en muchos documentos, el cociente dentro del logaritmo se acerca a 1, ofreciendo un valor de *idf* y de *tf-idf* cercano a 0."
   ]
  },
  {
   "cell_type": "code",
   "execution_count": 68,
   "metadata": {
    "slideshow": {
     "slide_type": "skip"
    },
    "tags": []
   },
   "outputs": [
    {
     "data": {
      "text/html": [
       "<div>\n",
       "<style scoped>\n",
       "    .dataframe tbody tr th:only-of-type {\n",
       "        vertical-align: middle;\n",
       "    }\n",
       "\n",
       "    .dataframe tbody tr th {\n",
       "        vertical-align: top;\n",
       "    }\n",
       "\n",
       "    .dataframe thead th {\n",
       "        text-align: right;\n",
       "    }\n",
       "</style>\n",
       "<table border=\"1\" class=\"dataframe\">\n",
       "  <thead>\n",
       "    <tr style=\"text-align: right;\">\n",
       "      <th></th>\n",
       "      <th>ama</th>\n",
       "      <th>arbol</th>\n",
       "      <th>arena</th>\n",
       "      <th>buscar</th>\n",
       "      <th>cielo</th>\n",
       "      <th>constelado</th>\n",
       "      <th>desvanecimiento</th>\n",
       "      <th>diario</th>\n",
       "      <th>eclipsado</th>\n",
       "      <th>espiritual</th>\n",
       "      <th>...</th>\n",
       "      <th>infinito</th>\n",
       "      <th>llave</th>\n",
       "      <th>mano</th>\n",
       "      <th>mar</th>\n",
       "      <th>mundo</th>\n",
       "      <th>noche</th>\n",
       "      <th>nostalgìas</th>\n",
       "      <th>palma</th>\n",
       "      <th>silvestre</th>\n",
       "      <th>vivir</th>\n",
       "    </tr>\n",
       "  </thead>\n",
       "  <tbody>\n",
       "    <tr>\n",
       "      <th>0</th>\n",
       "      <td>0.00000</td>\n",
       "      <td>0.000000</td>\n",
       "      <td>0.301511</td>\n",
       "      <td>0.000000</td>\n",
       "      <td>0.301511</td>\n",
       "      <td>0.000000</td>\n",
       "      <td>0.000000</td>\n",
       "      <td>0.000000</td>\n",
       "      <td>0.000000</td>\n",
       "      <td>0.000000</td>\n",
       "      <td>...</td>\n",
       "      <td>0.301511</td>\n",
       "      <td>0.00000</td>\n",
       "      <td>0.301511</td>\n",
       "      <td>0.000000</td>\n",
       "      <td>0.301511</td>\n",
       "      <td>0.000000</td>\n",
       "      <td>0.000000</td>\n",
       "      <td>0.301511</td>\n",
       "      <td>0.301511</td>\n",
       "      <td>0.000000</td>\n",
       "    </tr>\n",
       "    <tr>\n",
       "      <th>1</th>\n",
       "      <td>0.00000</td>\n",
       "      <td>0.521823</td>\n",
       "      <td>0.000000</td>\n",
       "      <td>0.427903</td>\n",
       "      <td>0.000000</td>\n",
       "      <td>0.000000</td>\n",
       "      <td>0.000000</td>\n",
       "      <td>0.000000</td>\n",
       "      <td>0.000000</td>\n",
       "      <td>0.000000</td>\n",
       "      <td>...</td>\n",
       "      <td>0.000000</td>\n",
       "      <td>0.00000</td>\n",
       "      <td>0.000000</td>\n",
       "      <td>0.000000</td>\n",
       "      <td>0.000000</td>\n",
       "      <td>0.000000</td>\n",
       "      <td>0.000000</td>\n",
       "      <td>0.000000</td>\n",
       "      <td>0.000000</td>\n",
       "      <td>0.521823</td>\n",
       "    </tr>\n",
       "    <tr>\n",
       "      <th>2</th>\n",
       "      <td>0.00000</td>\n",
       "      <td>0.000000</td>\n",
       "      <td>0.000000</td>\n",
       "      <td>0.000000</td>\n",
       "      <td>0.000000</td>\n",
       "      <td>0.707107</td>\n",
       "      <td>0.000000</td>\n",
       "      <td>0.000000</td>\n",
       "      <td>0.000000</td>\n",
       "      <td>0.000000</td>\n",
       "      <td>...</td>\n",
       "      <td>0.000000</td>\n",
       "      <td>0.00000</td>\n",
       "      <td>0.000000</td>\n",
       "      <td>0.000000</td>\n",
       "      <td>0.000000</td>\n",
       "      <td>0.707107</td>\n",
       "      <td>0.000000</td>\n",
       "      <td>0.000000</td>\n",
       "      <td>0.000000</td>\n",
       "      <td>0.000000</td>\n",
       "    </tr>\n",
       "    <tr>\n",
       "      <th>3</th>\n",
       "      <td>0.00000</td>\n",
       "      <td>0.000000</td>\n",
       "      <td>0.000000</td>\n",
       "      <td>0.000000</td>\n",
       "      <td>0.000000</td>\n",
       "      <td>0.000000</td>\n",
       "      <td>0.000000</td>\n",
       "      <td>0.000000</td>\n",
       "      <td>0.707107</td>\n",
       "      <td>0.000000</td>\n",
       "      <td>...</td>\n",
       "      <td>0.000000</td>\n",
       "      <td>0.00000</td>\n",
       "      <td>0.000000</td>\n",
       "      <td>0.707107</td>\n",
       "      <td>0.000000</td>\n",
       "      <td>0.000000</td>\n",
       "      <td>0.000000</td>\n",
       "      <td>0.000000</td>\n",
       "      <td>0.000000</td>\n",
       "      <td>0.000000</td>\n",
       "    </tr>\n",
       "    <tr>\n",
       "      <th>4</th>\n",
       "      <td>0.00000</td>\n",
       "      <td>0.000000</td>\n",
       "      <td>0.000000</td>\n",
       "      <td>0.379359</td>\n",
       "      <td>0.000000</td>\n",
       "      <td>0.000000</td>\n",
       "      <td>0.462625</td>\n",
       "      <td>0.462625</td>\n",
       "      <td>0.000000</td>\n",
       "      <td>0.462625</td>\n",
       "      <td>...</td>\n",
       "      <td>0.000000</td>\n",
       "      <td>0.00000</td>\n",
       "      <td>0.000000</td>\n",
       "      <td>0.000000</td>\n",
       "      <td>0.000000</td>\n",
       "      <td>0.000000</td>\n",
       "      <td>0.462625</td>\n",
       "      <td>0.000000</td>\n",
       "      <td>0.000000</td>\n",
       "      <td>0.000000</td>\n",
       "    </tr>\n",
       "    <tr>\n",
       "      <th>5</th>\n",
       "      <td>0.57735</td>\n",
       "      <td>0.000000</td>\n",
       "      <td>0.000000</td>\n",
       "      <td>0.000000</td>\n",
       "      <td>0.000000</td>\n",
       "      <td>0.000000</td>\n",
       "      <td>0.000000</td>\n",
       "      <td>0.000000</td>\n",
       "      <td>0.000000</td>\n",
       "      <td>0.000000</td>\n",
       "      <td>...</td>\n",
       "      <td>0.000000</td>\n",
       "      <td>0.57735</td>\n",
       "      <td>0.000000</td>\n",
       "      <td>0.000000</td>\n",
       "      <td>0.000000</td>\n",
       "      <td>0.000000</td>\n",
       "      <td>0.000000</td>\n",
       "      <td>0.000000</td>\n",
       "      <td>0.000000</td>\n",
       "      <td>0.000000</td>\n",
       "    </tr>\n",
       "  </tbody>\n",
       "</table>\n",
       "<p>6 rows × 26 columns</p>\n",
       "</div>"
      ],
      "text/plain": [
       "       ama     arbol     arena    buscar     cielo  constelado  \\\n",
       "0  0.00000  0.000000  0.301511  0.000000  0.301511    0.000000   \n",
       "1  0.00000  0.521823  0.000000  0.427903  0.000000    0.000000   \n",
       "2  0.00000  0.000000  0.000000  0.000000  0.000000    0.707107   \n",
       "3  0.00000  0.000000  0.000000  0.000000  0.000000    0.000000   \n",
       "4  0.00000  0.000000  0.000000  0.379359  0.000000    0.000000   \n",
       "5  0.57735  0.000000  0.000000  0.000000  0.000000    0.000000   \n",
       "\n",
       "   desvanecimiento    diario  eclipsado  espiritual  ...  infinito    llave  \\\n",
       "0         0.000000  0.000000   0.000000    0.000000  ...  0.301511  0.00000   \n",
       "1         0.000000  0.000000   0.000000    0.000000  ...  0.000000  0.00000   \n",
       "2         0.000000  0.000000   0.000000    0.000000  ...  0.000000  0.00000   \n",
       "3         0.000000  0.000000   0.707107    0.000000  ...  0.000000  0.00000   \n",
       "4         0.462625  0.462625   0.000000    0.462625  ...  0.000000  0.00000   \n",
       "5         0.000000  0.000000   0.000000    0.000000  ...  0.000000  0.57735   \n",
       "\n",
       "       mano       mar     mundo     noche  nostalgìas     palma  silvestre  \\\n",
       "0  0.301511  0.000000  0.301511  0.000000    0.000000  0.301511   0.301511   \n",
       "1  0.000000  0.000000  0.000000  0.000000    0.000000  0.000000   0.000000   \n",
       "2  0.000000  0.000000  0.000000  0.707107    0.000000  0.000000   0.000000   \n",
       "3  0.000000  0.707107  0.000000  0.000000    0.000000  0.000000   0.000000   \n",
       "4  0.000000  0.000000  0.000000  0.000000    0.462625  0.000000   0.000000   \n",
       "5  0.000000  0.000000  0.000000  0.000000    0.000000  0.000000   0.000000   \n",
       "\n",
       "      vivir  \n",
       "0  0.000000  \n",
       "1  0.521823  \n",
       "2  0.000000  \n",
       "3  0.000000  \n",
       "4  0.000000  \n",
       "5  0.000000  \n",
       "\n",
       "[6 rows x 26 columns]"
      ]
     },
     "execution_count": 68,
     "metadata": {},
     "output_type": "execute_result"
    }
   ],
   "source": [
    "from sklearn.feature_extraction.text import TfidfVectorizer\n",
    "\n",
    "tfidf = TfidfVectorizer().fit_transform(df['documento preprocesado'].values)\n",
    "\n",
    "tfidf_dtm = pd.DataFrame(tfidf.toarray(),columns = vectorizer.get_feature_names())\n",
    "\n",
    "tfidf_dtm"
   ]
  },
  {
   "cell_type": "markdown",
   "metadata": {
    "slideshow": {
     "slide_type": "subslide"
    },
    "tags": []
   },
   "source": [
    "## DTM "
   ]
  },
  {
   "cell_type": "code",
   "execution_count": 56,
   "metadata": {
    "tags": []
   },
   "outputs": [
    {
     "data": {
      "text/html": [
       "<div>\n",
       "<style scoped>\n",
       "    .dataframe tbody tr th:only-of-type {\n",
       "        vertical-align: middle;\n",
       "    }\n",
       "\n",
       "    .dataframe tbody tr th {\n",
       "        vertical-align: top;\n",
       "    }\n",
       "\n",
       "    .dataframe thead th {\n",
       "        text-align: right;\n",
       "    }\n",
       "</style>\n",
       "<table border=\"1\" class=\"dataframe\">\n",
       "  <thead>\n",
       "    <tr style=\"text-align: right;\">\n",
       "      <th></th>\n",
       "      <th>ama</th>\n",
       "      <th>arbol</th>\n",
       "      <th>arena</th>\n",
       "      <th>buscar</th>\n",
       "      <th>cielo</th>\n",
       "      <th>constelado</th>\n",
       "      <th>desvanecimiento</th>\n",
       "      <th>diario</th>\n",
       "      <th>eclipsado</th>\n",
       "      <th>espiritual</th>\n",
       "      <th>...</th>\n",
       "      <th>infinito</th>\n",
       "      <th>llave</th>\n",
       "      <th>mano</th>\n",
       "      <th>mar</th>\n",
       "      <th>mundo</th>\n",
       "      <th>noche</th>\n",
       "      <th>nostalgìas</th>\n",
       "      <th>palma</th>\n",
       "      <th>silvestre</th>\n",
       "      <th>vivir</th>\n",
       "    </tr>\n",
       "  </thead>\n",
       "  <tbody>\n",
       "    <tr>\n",
       "      <th>0</th>\n",
       "      <td>0</td>\n",
       "      <td>0</td>\n",
       "      <td>1</td>\n",
       "      <td>0</td>\n",
       "      <td>1</td>\n",
       "      <td>0</td>\n",
       "      <td>0</td>\n",
       "      <td>0</td>\n",
       "      <td>0</td>\n",
       "      <td>0</td>\n",
       "      <td>...</td>\n",
       "      <td>1</td>\n",
       "      <td>0</td>\n",
       "      <td>1</td>\n",
       "      <td>0</td>\n",
       "      <td>1</td>\n",
       "      <td>0</td>\n",
       "      <td>0</td>\n",
       "      <td>1</td>\n",
       "      <td>1</td>\n",
       "      <td>0</td>\n",
       "    </tr>\n",
       "    <tr>\n",
       "      <th>1</th>\n",
       "      <td>0</td>\n",
       "      <td>1</td>\n",
       "      <td>0</td>\n",
       "      <td>1</td>\n",
       "      <td>0</td>\n",
       "      <td>0</td>\n",
       "      <td>0</td>\n",
       "      <td>0</td>\n",
       "      <td>0</td>\n",
       "      <td>0</td>\n",
       "      <td>...</td>\n",
       "      <td>0</td>\n",
       "      <td>0</td>\n",
       "      <td>0</td>\n",
       "      <td>0</td>\n",
       "      <td>0</td>\n",
       "      <td>0</td>\n",
       "      <td>0</td>\n",
       "      <td>0</td>\n",
       "      <td>0</td>\n",
       "      <td>1</td>\n",
       "    </tr>\n",
       "    <tr>\n",
       "      <th>2</th>\n",
       "      <td>0</td>\n",
       "      <td>0</td>\n",
       "      <td>0</td>\n",
       "      <td>0</td>\n",
       "      <td>0</td>\n",
       "      <td>1</td>\n",
       "      <td>0</td>\n",
       "      <td>0</td>\n",
       "      <td>0</td>\n",
       "      <td>0</td>\n",
       "      <td>...</td>\n",
       "      <td>0</td>\n",
       "      <td>0</td>\n",
       "      <td>0</td>\n",
       "      <td>0</td>\n",
       "      <td>0</td>\n",
       "      <td>1</td>\n",
       "      <td>0</td>\n",
       "      <td>0</td>\n",
       "      <td>0</td>\n",
       "      <td>0</td>\n",
       "    </tr>\n",
       "    <tr>\n",
       "      <th>3</th>\n",
       "      <td>0</td>\n",
       "      <td>0</td>\n",
       "      <td>0</td>\n",
       "      <td>0</td>\n",
       "      <td>0</td>\n",
       "      <td>0</td>\n",
       "      <td>0</td>\n",
       "      <td>0</td>\n",
       "      <td>1</td>\n",
       "      <td>0</td>\n",
       "      <td>...</td>\n",
       "      <td>0</td>\n",
       "      <td>0</td>\n",
       "      <td>0</td>\n",
       "      <td>1</td>\n",
       "      <td>0</td>\n",
       "      <td>0</td>\n",
       "      <td>0</td>\n",
       "      <td>0</td>\n",
       "      <td>0</td>\n",
       "      <td>0</td>\n",
       "    </tr>\n",
       "    <tr>\n",
       "      <th>4</th>\n",
       "      <td>0</td>\n",
       "      <td>0</td>\n",
       "      <td>0</td>\n",
       "      <td>1</td>\n",
       "      <td>0</td>\n",
       "      <td>0</td>\n",
       "      <td>1</td>\n",
       "      <td>1</td>\n",
       "      <td>0</td>\n",
       "      <td>1</td>\n",
       "      <td>...</td>\n",
       "      <td>0</td>\n",
       "      <td>0</td>\n",
       "      <td>0</td>\n",
       "      <td>0</td>\n",
       "      <td>0</td>\n",
       "      <td>0</td>\n",
       "      <td>1</td>\n",
       "      <td>0</td>\n",
       "      <td>0</td>\n",
       "      <td>0</td>\n",
       "    </tr>\n",
       "    <tr>\n",
       "      <th>5</th>\n",
       "      <td>1</td>\n",
       "      <td>0</td>\n",
       "      <td>0</td>\n",
       "      <td>0</td>\n",
       "      <td>0</td>\n",
       "      <td>0</td>\n",
       "      <td>0</td>\n",
       "      <td>0</td>\n",
       "      <td>0</td>\n",
       "      <td>0</td>\n",
       "      <td>...</td>\n",
       "      <td>0</td>\n",
       "      <td>1</td>\n",
       "      <td>0</td>\n",
       "      <td>0</td>\n",
       "      <td>0</td>\n",
       "      <td>0</td>\n",
       "      <td>0</td>\n",
       "      <td>0</td>\n",
       "      <td>0</td>\n",
       "      <td>0</td>\n",
       "    </tr>\n",
       "  </tbody>\n",
       "</table>\n",
       "<p>6 rows × 26 columns</p>\n",
       "</div>"
      ],
      "text/plain": [
       "   ama  arbol  arena  buscar  cielo  constelado  desvanecimiento  diario  \\\n",
       "0    0      0      1       0      1           0                0       0   \n",
       "1    0      1      0       1      0           0                0       0   \n",
       "2    0      0      0       0      0           1                0       0   \n",
       "3    0      0      0       0      0           0                0       0   \n",
       "4    0      0      0       1      0           0                1       1   \n",
       "5    1      0      0       0      0           0                0       0   \n",
       "\n",
       "   eclipsado  espiritual  ...  infinito  llave  mano  mar  mundo  noche  \\\n",
       "0          0           0  ...         1      0     1    0      1      0   \n",
       "1          0           0  ...         0      0     0    0      0      0   \n",
       "2          0           0  ...         0      0     0    0      0      1   \n",
       "3          1           0  ...         0      0     0    1      0      0   \n",
       "4          0           1  ...         0      0     0    0      0      0   \n",
       "5          0           0  ...         0      1     0    0      0      0   \n",
       "\n",
       "   nostalgìas  palma  silvestre  vivir  \n",
       "0           0      1          1      0  \n",
       "1           0      0          0      1  \n",
       "2           0      0          0      0  \n",
       "3           0      0          0      0  \n",
       "4           1      0          0      0  \n",
       "5           0      0          0      0  \n",
       "\n",
       "[6 rows x 26 columns]"
      ]
     },
     "execution_count": 56,
     "metadata": {},
     "output_type": "execute_result"
    }
   ],
   "source": [
    "dtm"
   ]
  },
  {
   "cell_type": "markdown",
   "metadata": {},
   "source": [
    "## tf-idf"
   ]
  },
  {
   "cell_type": "code",
   "execution_count": 71,
   "metadata": {
    "tags": []
   },
   "outputs": [
    {
     "data": {
      "text/html": [
       "<div>\n",
       "<style scoped>\n",
       "    .dataframe tbody tr th:only-of-type {\n",
       "        vertical-align: middle;\n",
       "    }\n",
       "\n",
       "    .dataframe tbody tr th {\n",
       "        vertical-align: top;\n",
       "    }\n",
       "\n",
       "    .dataframe thead th {\n",
       "        text-align: right;\n",
       "    }\n",
       "</style>\n",
       "<table border=\"1\" class=\"dataframe\">\n",
       "  <thead>\n",
       "    <tr style=\"text-align: right;\">\n",
       "      <th></th>\n",
       "      <th>ama</th>\n",
       "      <th>arbol</th>\n",
       "      <th>arena</th>\n",
       "      <th>buscar</th>\n",
       "      <th>cielo</th>\n",
       "      <th>constelado</th>\n",
       "      <th>desvanecimiento</th>\n",
       "      <th>diario</th>\n",
       "      <th>eclipsado</th>\n",
       "      <th>espiritual</th>\n",
       "      <th>...</th>\n",
       "      <th>infinito</th>\n",
       "      <th>llave</th>\n",
       "      <th>mano</th>\n",
       "      <th>mar</th>\n",
       "      <th>mundo</th>\n",
       "      <th>noche</th>\n",
       "      <th>nostalgìas</th>\n",
       "      <th>palma</th>\n",
       "      <th>silvestre</th>\n",
       "      <th>vivir</th>\n",
       "    </tr>\n",
       "  </thead>\n",
       "  <tbody>\n",
       "    <tr>\n",
       "      <th>0</th>\n",
       "      <td>0.00</td>\n",
       "      <td>0.00</td>\n",
       "      <td>0.3</td>\n",
       "      <td>0.00</td>\n",
       "      <td>0.3</td>\n",
       "      <td>0.00</td>\n",
       "      <td>0.00</td>\n",
       "      <td>0.00</td>\n",
       "      <td>0.00</td>\n",
       "      <td>0.00</td>\n",
       "      <td>...</td>\n",
       "      <td>0.3</td>\n",
       "      <td>0.00</td>\n",
       "      <td>0.3</td>\n",
       "      <td>0.00</td>\n",
       "      <td>0.3</td>\n",
       "      <td>0.00</td>\n",
       "      <td>0.00</td>\n",
       "      <td>0.3</td>\n",
       "      <td>0.3</td>\n",
       "      <td>0.00</td>\n",
       "    </tr>\n",
       "    <tr>\n",
       "      <th>1</th>\n",
       "      <td>0.00</td>\n",
       "      <td>0.52</td>\n",
       "      <td>0.0</td>\n",
       "      <td>0.43</td>\n",
       "      <td>0.0</td>\n",
       "      <td>0.00</td>\n",
       "      <td>0.00</td>\n",
       "      <td>0.00</td>\n",
       "      <td>0.00</td>\n",
       "      <td>0.00</td>\n",
       "      <td>...</td>\n",
       "      <td>0.0</td>\n",
       "      <td>0.00</td>\n",
       "      <td>0.0</td>\n",
       "      <td>0.00</td>\n",
       "      <td>0.0</td>\n",
       "      <td>0.00</td>\n",
       "      <td>0.00</td>\n",
       "      <td>0.0</td>\n",
       "      <td>0.0</td>\n",
       "      <td>0.52</td>\n",
       "    </tr>\n",
       "    <tr>\n",
       "      <th>2</th>\n",
       "      <td>0.00</td>\n",
       "      <td>0.00</td>\n",
       "      <td>0.0</td>\n",
       "      <td>0.00</td>\n",
       "      <td>0.0</td>\n",
       "      <td>0.71</td>\n",
       "      <td>0.00</td>\n",
       "      <td>0.00</td>\n",
       "      <td>0.00</td>\n",
       "      <td>0.00</td>\n",
       "      <td>...</td>\n",
       "      <td>0.0</td>\n",
       "      <td>0.00</td>\n",
       "      <td>0.0</td>\n",
       "      <td>0.00</td>\n",
       "      <td>0.0</td>\n",
       "      <td>0.71</td>\n",
       "      <td>0.00</td>\n",
       "      <td>0.0</td>\n",
       "      <td>0.0</td>\n",
       "      <td>0.00</td>\n",
       "    </tr>\n",
       "    <tr>\n",
       "      <th>3</th>\n",
       "      <td>0.00</td>\n",
       "      <td>0.00</td>\n",
       "      <td>0.0</td>\n",
       "      <td>0.00</td>\n",
       "      <td>0.0</td>\n",
       "      <td>0.00</td>\n",
       "      <td>0.00</td>\n",
       "      <td>0.00</td>\n",
       "      <td>0.71</td>\n",
       "      <td>0.00</td>\n",
       "      <td>...</td>\n",
       "      <td>0.0</td>\n",
       "      <td>0.00</td>\n",
       "      <td>0.0</td>\n",
       "      <td>0.71</td>\n",
       "      <td>0.0</td>\n",
       "      <td>0.00</td>\n",
       "      <td>0.00</td>\n",
       "      <td>0.0</td>\n",
       "      <td>0.0</td>\n",
       "      <td>0.00</td>\n",
       "    </tr>\n",
       "    <tr>\n",
       "      <th>4</th>\n",
       "      <td>0.00</td>\n",
       "      <td>0.00</td>\n",
       "      <td>0.0</td>\n",
       "      <td>0.38</td>\n",
       "      <td>0.0</td>\n",
       "      <td>0.00</td>\n",
       "      <td>0.46</td>\n",
       "      <td>0.46</td>\n",
       "      <td>0.00</td>\n",
       "      <td>0.46</td>\n",
       "      <td>...</td>\n",
       "      <td>0.0</td>\n",
       "      <td>0.00</td>\n",
       "      <td>0.0</td>\n",
       "      <td>0.00</td>\n",
       "      <td>0.0</td>\n",
       "      <td>0.00</td>\n",
       "      <td>0.46</td>\n",
       "      <td>0.0</td>\n",
       "      <td>0.0</td>\n",
       "      <td>0.00</td>\n",
       "    </tr>\n",
       "    <tr>\n",
       "      <th>5</th>\n",
       "      <td>0.58</td>\n",
       "      <td>0.00</td>\n",
       "      <td>0.0</td>\n",
       "      <td>0.00</td>\n",
       "      <td>0.0</td>\n",
       "      <td>0.00</td>\n",
       "      <td>0.00</td>\n",
       "      <td>0.00</td>\n",
       "      <td>0.00</td>\n",
       "      <td>0.00</td>\n",
       "      <td>...</td>\n",
       "      <td>0.0</td>\n",
       "      <td>0.58</td>\n",
       "      <td>0.0</td>\n",
       "      <td>0.00</td>\n",
       "      <td>0.0</td>\n",
       "      <td>0.00</td>\n",
       "      <td>0.00</td>\n",
       "      <td>0.0</td>\n",
       "      <td>0.0</td>\n",
       "      <td>0.00</td>\n",
       "    </tr>\n",
       "  </tbody>\n",
       "</table>\n",
       "<p>6 rows × 26 columns</p>\n",
       "</div>"
      ],
      "text/plain": [
       "    ama  arbol  arena  buscar  cielo  constelado  desvanecimiento  diario  \\\n",
       "0  0.00   0.00    0.3    0.00    0.3        0.00             0.00    0.00   \n",
       "1  0.00   0.52    0.0    0.43    0.0        0.00             0.00    0.00   \n",
       "2  0.00   0.00    0.0    0.00    0.0        0.71             0.00    0.00   \n",
       "3  0.00   0.00    0.0    0.00    0.0        0.00             0.00    0.00   \n",
       "4  0.00   0.00    0.0    0.38    0.0        0.00             0.46    0.46   \n",
       "5  0.58   0.00    0.0    0.00    0.0        0.00             0.00    0.00   \n",
       "\n",
       "   eclipsado  espiritual  ...  infinito  llave  mano   mar  mundo  noche  \\\n",
       "0       0.00        0.00  ...       0.3   0.00   0.3  0.00    0.3   0.00   \n",
       "1       0.00        0.00  ...       0.0   0.00   0.0  0.00    0.0   0.00   \n",
       "2       0.00        0.00  ...       0.0   0.00   0.0  0.00    0.0   0.71   \n",
       "3       0.71        0.00  ...       0.0   0.00   0.0  0.71    0.0   0.00   \n",
       "4       0.00        0.46  ...       0.0   0.00   0.0  0.00    0.0   0.00   \n",
       "5       0.00        0.00  ...       0.0   0.58   0.0  0.00    0.0   0.00   \n",
       "\n",
       "   nostalgìas  palma  silvestre  vivir  \n",
       "0        0.00    0.3        0.3   0.00  \n",
       "1        0.00    0.0        0.0   0.52  \n",
       "2        0.00    0.0        0.0   0.00  \n",
       "3        0.00    0.0        0.0   0.00  \n",
       "4        0.46    0.0        0.0   0.00  \n",
       "5        0.00    0.0        0.0   0.00  \n",
       "\n",
       "[6 rows x 26 columns]"
      ]
     },
     "execution_count": 71,
     "metadata": {},
     "output_type": "execute_result"
    }
   ],
   "source": [
    "tfidf_dtm.round(2)"
   ]
  },
  {
   "cell_type": "markdown",
   "metadata": {
    "slideshow": {
     "slide_type": "slide"
    },
    "tags": []
   },
   "source": [
    "<figure>\n",
    "<img src=\"../Imagenes/logo-final-ap.png\"  width=\"80\" height=\"80\" align=\"left\"/> \n",
    "</figure>\n",
    "\n",
    "# <span style=\"color:red\"><center>Análisis de Componentes Principales: semántica latente</center></span>"
   ]
  },
  {
   "cell_type": "markdown",
   "metadata": {
    "slideshow": {
     "slide_type": "subslide"
    },
    "tags": []
   },
   "source": [
    "**<center>¿Cómo usar DTM para asociar documentos semejantes?</center>**\n",
    "<figure>\n",
    "<img src=\"../Imagenes/pca.png\" width=\"800\" height=\"400\" align=\"center\"/>\n",
    "<figcaption>\n",
    "<p style=\"text-align:center\">Arquitectura del modelo Semática Latente</p>\n",
    "</figcaption>\n",
    "</figure>\n",
    "\n",
    "Fuente: Alvaro Montenegro"
   ]
  },
  {
   "cell_type": "markdown",
   "metadata": {
    "slideshow": {
     "slide_type": "subslide"
    },
    "tags": []
   },
   "source": [
    "## **<center> LDA (Latent Dirichlet Allocation)</center>**\n",
    "\n",
    "![Blei](../Imagenes/Diagram_Blei.png)\n",
    "\n",
    "<figcaption>\n",
    "<p style=\"text-align:center\">Intuición detrás de LDA</p>\n",
    "</figcaption>\n",
    "\n",
    "Fuente: [Intuition behind LDA](http://www.cs.cornell.edu/courses/cs6784/2010sp/lecture/30-BleiEtAl03.pdf)"
   ]
  }
 ],
 "metadata": {
  "kernelspec": {
   "display_name": "Python 3 (ipykernel)",
   "language": "python",
   "name": "python3"
  },
  "language_info": {
   "codemirror_mode": {
    "name": "ipython",
    "version": 3
   },
   "file_extension": ".py",
   "mimetype": "text/x-python",
   "name": "python",
   "nbconvert_exporter": "python",
   "pygments_lexer": "ipython3",
   "version": "3.8.10"
  }
 },
 "nbformat": 4,
 "nbformat_minor": 4
}
