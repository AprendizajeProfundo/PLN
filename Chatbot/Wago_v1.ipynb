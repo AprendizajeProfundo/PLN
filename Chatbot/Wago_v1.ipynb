{
 "cells": [
  {
   "cell_type": "markdown",
   "id": "9fba7b5c-63f3-4f4e-8fdc-be1d1dde42c4",
   "metadata": {
    "tags": []
   },
   "source": [
    "## Librerías Necesarias"
   ]
  },
  {
   "cell_type": "code",
   "execution_count": 1,
   "id": "956f7059-7eed-42fc-8274-d25b3e91c30e",
   "metadata": {},
   "outputs": [],
   "source": [
    "##### VOZ ######\n",
    "# Text-to-Speech Conversion\n",
    "import pyttsx3 as tts\n",
    "# Reconocimiento de Voz\n",
    "import speech_recognition\n",
    "\n",
    "##### CHATBOT ######\n",
    "# Intenciones y funcionalidad de chatbot\n",
    "from neuralintents import GenericAssistant\n",
    "# Manejo general del sistema\n",
    "import sys\n",
    "# Traducir texto, resumir texto\n",
    "from transformers import pipeline\n",
    "# Manejo de vectores\n",
    "import numpy as np\n",
    "# Calcular similaridad\n",
    "import spacy\n",
    "\n",
    "#######FUENTES DE INFORMACION Y PROCESAMIENTO#######\n",
    "# Modulo para extraer noticias de Google News\n",
    "from gnewsclient import gnewsclient\n",
    "# Acceder a contenido de internet\n",
    "import requests\n",
    "# Acceder al texto dentro del html\n",
    "from bs4 import BeautifulSoup\n",
    "# Convertir html a texto\n",
    "import html2text\n",
    "# Analizar expresiones regulares\n",
    "import re"
   ]
  },
  {
   "cell_type": "markdown",
   "id": "ffd1fb51-d2fe-427b-87d4-3845d247a096",
   "metadata": {},
   "source": [
    "## Asistente de Voz"
   ]
  },
  {
   "cell_type": "markdown",
   "id": "8da12c6d-9328-4614-9c5e-1d4e6bd5953b",
   "metadata": {},
   "source": [
    "### Voces Disponibles "
   ]
  },
  {
   "cell_type": "code",
   "execution_count": 2,
   "id": "134fb425-4da1-4dce-a7f8-29e4e2c41b98",
   "metadata": {},
   "outputs": [
    {
     "name": "stdout",
     "output_type": "stream",
     "text": [
      "\n",
      "Voces disponibles en Español:\n",
      "\n",
      "Voice: spanish\n",
      " - ID: spanish\n",
      " - Languages: [b'\\x05es']\n",
      " - Gender: male\n",
      " - Age: None\n",
      "\n",
      "\n",
      "Voice: spanish-latin-am\n",
      " - ID: spanish-latin-am\n",
      " - Languages: [b'\\x05es-la']\n",
      " - Gender: male\n",
      " - Age: None\n",
      "\n",
      "\n",
      "Eligiendo idioma: spanish-latin-am\n"
     ]
    }
   ],
   "source": [
    "# Inciar objeto text-to-speech\n",
    "speaker = tts.init()\n",
    "# Obtener voces disponibles del sistema\n",
    "voices = speaker.getProperty('voices')\n",
    "# Obtener voces en español\n",
    "voices_esp = []\n",
    "print('\\nVoces disponibles en Español:\\n')\n",
    "\n",
    "\n",
    "for voice in voices:\n",
    "    if str(voice).find('spanish')>0:\n",
    "        print(\"Voice: %s\" % voice.name)\n",
    "        print(\" - ID: %s\" % voice.id)\n",
    "        print(\" - Languages: %s\" % voice.languages)\n",
    "        print(\" - Gender: %s\" % voice.gender)\n",
    "        print(\" - Age: %s\" % voice.age)\n",
    "        print(\"\\n\")\n",
    "        voices_esp.append(voice)\n",
    "\n",
    "# Elegir español (VARIA EN SISTEMA OPERATIVO)\n",
    "eleccion = voices_esp[1].id\n",
    "print(\"Eligiendo idioma:\",eleccion)\n",
    "speaker.setProperty(\"voice\", eleccion)"
   ]
  },
  {
   "cell_type": "markdown",
   "id": "d28ab4cf-0fa2-4501-b8d7-ad11432eb355",
   "metadata": {},
   "source": [
    "### Pruebas iniciales - Asistente en Acción"
   ]
  },
  {
   "cell_type": "code",
   "execution_count": 3,
   "id": "d80bd63f-7e1d-4a23-aea8-295e36e2708c",
   "metadata": {},
   "outputs": [],
   "source": [
    "# Asistente hablando\n",
    "speaker.say(\"Hola mundo, ¡estoy vivo!\")\n",
    "# Reproducir sonido y parar\n",
    "speaker.runAndWait()"
   ]
  },
  {
   "cell_type": "markdown",
   "id": "c66ae062-2b5d-4672-ae02-298c2a57d819",
   "metadata": {},
   "source": [
    "## Reconocimiento de Audio"
   ]
  },
  {
   "cell_type": "code",
   "execution_count": 4,
   "id": "b1cf8bdd-cfc2-4706-9575-edff4113ba67",
   "metadata": {},
   "outputs": [],
   "source": [
    "# Iniciar reconocimiento de voz\n",
    "recognizer=speech_recognition.Recognizer()"
   ]
  },
  {
   "cell_type": "markdown",
   "id": "cca98d35-a1c6-4937-af18-f77ef7213215",
   "metadata": {},
   "source": [
    "### Pruebas iniciales - Reconocimiento en Acción"
   ]
  },
  {
   "cell_type": "code",
   "execution_count": 26,
   "id": "71683de3-753b-4b52-b158-9dfcb48fbdef",
   "metadata": {},
   "outputs": [
    {
     "name": "stdout",
     "output_type": "stream",
     "text": [
      "Audio reconocido: Hola\n"
     ]
    }
   ],
   "source": [
    "# Abrir Micrófono\n",
    "with speech_recognition.Microphone() as mic:\n",
    "    # Reducir ruido ambiental\n",
    "    recognizer.adjust_for_ambient_noise(mic,duration=0.2)\n",
    "    # Escuchar audio\n",
    "    audio=recognizer.listen(mic)\n",
    "    # Reconocer audio\n",
    "    ticker=recognizer.recognize_google(audio,language=\"es-CO\")\n",
    "    \n",
    "# Visualizar audio en texto\n",
    "print(\"Audio reconocido:\", ticker)"
   ]
  },
  {
   "cell_type": "markdown",
   "id": "a90090bb-7f4d-458f-8dfd-022d8406f323",
   "metadata": {},
   "source": [
    "## Pruebas De Pregunta-Respuesta"
   ]
  },
  {
   "cell_type": "code",
   "execution_count": 8,
   "id": "3d9a8dd6-e42b-42ec-9076-fc52280d335c",
   "metadata": {},
   "outputs": [
    {
     "name": "stdout",
     "output_type": "stream",
     "text": [
      "Dijiste: hola hay alguien ahí\n",
      "Dijiste: qué te cuentas\n",
      "Dijiste: chao\n"
     ]
    }
   ],
   "source": [
    "# Flag para parar acción\n",
    "done = False\n",
    "while not done:\n",
    "    try:\n",
    "        with speech_recognition.Microphone() as mic:\n",
    "            \n",
    "            recognizer.adjust_for_ambient_noise(mic,duration=0.2)\n",
    "            audio=recognizer.listen(mic)\n",
    "            ticker=recognizer.recognize_google(audio,language=\"es-CO\")#item\n",
    "            #print(1)\n",
    "            # Poner transformer aquí\n",
    "\n",
    "            speaker.say(\"Dijiste: \" + ticker)\n",
    "            speaker.runAndWait()\n",
    "            # Pasar texto a minúscula\n",
    "            ticker=ticker.lower()\n",
    "            print(\"Dijiste:\",ticker)\n",
    "\n",
    "    # Maquina no entender\n",
    "    except speech_recognition.UnknownValueError:\n",
    "        recognizer=speech_recognition.Recognizer()\n",
    "        # Pedir info de nuevo\n",
    "        speaker.say(\"No entendi lo que dijiste, por favor podrias repetir?\")\n",
    "        speaker.runAndWait()\n",
    "    # Desactivar acciones con palabra clave\n",
    "    if ticker=='chao':\n",
    "        # Frase de despedida\n",
    "        speaker.say(\"Chao pescao. Nos vemos por ahí.\")\n",
    "        speaker.runAndWait()\n",
    "        done=True"
   ]
  },
  {
   "cell_type": "markdown",
   "id": "31e14ccc-43e5-49f2-8332-f016987d3d5c",
   "metadata": {
    "tags": []
   },
   "source": [
    "# Mapeo"
   ]
  },
  {
   "cell_type": "code",
   "execution_count": 9,
   "id": "261855ff-f6df-4bb9-ae26-15859de6224d",
   "metadata": {},
   "outputs": [],
   "source": [
    "def hola():\n",
    "    speaker.say(\"Hola, en que puedo ayudarte?\")\n",
    "    speaker.runAndWait()"
   ]
  },
  {
   "cell_type": "code",
   "execution_count": 10,
   "id": "e40a2697-4ba4-4eda-a186-2432ff73b1dd",
   "metadata": {},
   "outputs": [],
   "source": [
    "def salir():\n",
    "    speaker.say(\"Chao pescao. Nos vemos por ahí.\")\n",
    "    speaker.runAndWait()\n",
    "    sys.exit(0)"
   ]
  },
  {
   "cell_type": "code",
   "execution_count": 19,
   "id": "bf20a177-3081-4299-b78c-82eeadcc09e4",
   "metadata": {
    "tags": []
   },
   "outputs": [],
   "source": [
    "def noticia():\n",
    "    from gnewsclient import gnewsclient\n",
    "    speaker.say(\"Claro que sí. Encontré esto:\")\n",
    "    speaker.runAndWait()\n",
    "    # declare a NewsClient object \n",
    "    client = gnewsclient.NewsClient(language='spanish', location='Colombia', topic='Tecnología', max_results=5)\n",
    "\n",
    "    # get news feed\n",
    "    noticias = client.get_news()\n",
    "    for i in range(len(noticias)):\n",
    "        print(noticias[i]['title'])\n",
    "        speaker.say(noticias[i]['title'])\n",
    "        speaker.runAndWait()\n",
    "        print(noticias[i]['link'])\n",
    "    speaker.say(\"¿Cuál te gustaría escuchar?\")\n",
    "    speaker.runAndWait()"
   ]
  },
  {
   "cell_type": "code",
   "execution_count": 21,
   "id": "1c17aede-25e5-4726-807b-857774b63fbb",
   "metadata": {
    "tags": []
   },
   "outputs": [],
   "source": [
    "def resumen():\n",
    "    import numpy as np\n",
    "    speaker.say(\"Okey. Qué perezoso!, aquí tienes:\")\n",
    "    speaker.runAndWait()\n",
    "    # declare a NewsClient object \n",
    "    with open('resumen_es.txt') as f:\n",
    "        lines = f.readlines()\n",
    "    print(lines)\n",
    "    speaker.say(lines)\n",
    "    speaker.runAndWait()"
   ]
  },
  {
   "cell_type": "code",
   "execution_count": 22,
   "id": "dc348cd9-4777-4504-a471-7b02d7b83aac",
   "metadata": {
    "tags": []
   },
   "outputs": [],
   "source": [
    "# Mappings pregunta-respuesta\n",
    "mappings={\n",
    "    \"inicio\":hola,\n",
    "    \"salir\": salir,\n",
    "    \"noticias\":noticia,\n",
    "    \"resumen\":resumen\n",
    "}"
   ]
  },
  {
   "cell_type": "code",
   "execution_count": 23,
   "id": "f00973bb-9430-4a48-aa05-5d2185c91928",
   "metadata": {
    "tags": []
   },
   "outputs": [
    {
     "name": "stderr",
     "output_type": "stream",
     "text": [
      "/home/alvaro/miniconda3/envs/ia/lib/python3.8/site-packages/neuralintents/main.py:97: VisibleDeprecationWarning: Creating an ndarray from ragged nested sequences (which is a list-or-tuple of lists-or-tuples-or ndarrays with different lengths or shapes) is deprecated. If you meant to do this, you must specify 'dtype=object' when creating the ndarray\n",
      "  training = np.array(training)\n",
      "/home/alvaro/miniconda3/envs/ia/lib/python3.8/site-packages/tensorflow/python/keras/optimizer_v2/optimizer_v2.py:374: UserWarning: The `lr` argument is deprecated, use `learning_rate` instead.\n",
      "  warnings.warn(\n"
     ]
    },
    {
     "name": "stdout",
     "output_type": "stream",
     "text": [
      "Epoch 1/200\n",
      "10/10 [==============================] - 0s 2ms/step - loss: 2.6414 - accuracy: 0.0638\n",
      "Epoch 2/200\n",
      "10/10 [==============================] - 0s 1ms/step - loss: 2.5400 - accuracy: 0.1915\n",
      "Epoch 3/200\n",
      "10/10 [==============================] - 0s 2ms/step - loss: 2.5066 - accuracy: 0.2128\n",
      "Epoch 4/200\n",
      "10/10 [==============================] - 0s 3ms/step - loss: 2.2517 - accuracy: 0.2553\n",
      "Epoch 5/200\n",
      "10/10 [==============================] - 0s 2ms/step - loss: 2.1763 - accuracy: 0.3191\n",
      "Epoch 6/200\n",
      "10/10 [==============================] - 0s 1ms/step - loss: 2.0845 - accuracy: 0.3191\n",
      "Epoch 7/200\n",
      "10/10 [==============================] - 0s 1ms/step - loss: 1.9749 - accuracy: 0.3404\n",
      "Epoch 8/200\n",
      "10/10 [==============================] - 0s 2ms/step - loss: 1.7918 - accuracy: 0.4468\n",
      "Epoch 9/200\n",
      "10/10 [==============================] - 0s 2ms/step - loss: 1.8634 - accuracy: 0.3830\n",
      "Epoch 10/200\n",
      "10/10 [==============================] - 0s 2ms/step - loss: 1.5687 - accuracy: 0.5106\n",
      "Epoch 11/200\n",
      "10/10 [==============================] - 0s 2ms/step - loss: 1.5661 - accuracy: 0.5532\n",
      "Epoch 12/200\n",
      "10/10 [==============================] - 0s 2ms/step - loss: 1.4084 - accuracy: 0.5745\n",
      "Epoch 13/200\n",
      "10/10 [==============================] - 0s 1ms/step - loss: 1.3217 - accuracy: 0.6383\n",
      "Epoch 14/200\n",
      "10/10 [==============================] - 0s 3ms/step - loss: 1.1098 - accuracy: 0.6809\n",
      "Epoch 15/200\n",
      "10/10 [==============================] - 0s 2ms/step - loss: 1.2396 - accuracy: 0.7234\n",
      "Epoch 16/200\n",
      "10/10 [==============================] - 0s 1ms/step - loss: 1.1617 - accuracy: 0.6383\n",
      "Epoch 17/200\n",
      "10/10 [==============================] - 0s 3ms/step - loss: 0.9269 - accuracy: 0.7234\n",
      "Epoch 18/200\n",
      "10/10 [==============================] - 0s 1ms/step - loss: 1.0365 - accuracy: 0.7021\n",
      "Epoch 19/200\n",
      "10/10 [==============================] - 0s 1ms/step - loss: 0.9248 - accuracy: 0.7660\n",
      "Epoch 20/200\n",
      "10/10 [==============================] - 0s 3ms/step - loss: 0.9390 - accuracy: 0.7447\n",
      "Epoch 21/200\n",
      "10/10 [==============================] - 0s 2ms/step - loss: 0.8173 - accuracy: 0.7872\n",
      "Epoch 22/200\n",
      "10/10 [==============================] - 0s 1ms/step - loss: 0.8858 - accuracy: 0.7021\n",
      "Epoch 23/200\n",
      "10/10 [==============================] - 0s 2ms/step - loss: 0.7140 - accuracy: 0.7447\n",
      "Epoch 24/200\n",
      "10/10 [==============================] - 0s 2ms/step - loss: 0.6187 - accuracy: 0.7872\n",
      "Epoch 25/200\n",
      "10/10 [==============================] - 0s 2ms/step - loss: 0.4758 - accuracy: 0.8936\n",
      "Epoch 26/200\n",
      "10/10 [==============================] - 0s 2ms/step - loss: 0.7955 - accuracy: 0.7234\n",
      "Epoch 27/200\n",
      "10/10 [==============================] - 0s 2ms/step - loss: 0.8716 - accuracy: 0.6596\n",
      "Epoch 28/200\n",
      "10/10 [==============================] - 0s 2ms/step - loss: 0.4957 - accuracy: 0.8723\n",
      "Epoch 29/200\n",
      "10/10 [==============================] - 0s 2ms/step - loss: 0.5730 - accuracy: 0.8298\n",
      "Epoch 30/200\n",
      "10/10 [==============================] - 0s 2ms/step - loss: 0.4518 - accuracy: 0.8723\n",
      "Epoch 31/200\n",
      "10/10 [==============================] - 0s 2ms/step - loss: 0.4469 - accuracy: 0.9149\n",
      "Epoch 32/200\n",
      "10/10 [==============================] - 0s 2ms/step - loss: 0.5125 - accuracy: 0.8723\n",
      "Epoch 33/200\n",
      "10/10 [==============================] - 0s 1ms/step - loss: 0.4307 - accuracy: 0.8723\n",
      "Epoch 34/200\n",
      "10/10 [==============================] - 0s 3ms/step - loss: 0.4241 - accuracy: 0.8298\n",
      "Epoch 35/200\n",
      "10/10 [==============================] - 0s 2ms/step - loss: 0.4511 - accuracy: 0.8723\n",
      "Epoch 36/200\n",
      "10/10 [==============================] - 0s 2ms/step - loss: 0.2593 - accuracy: 0.9574\n",
      "Epoch 37/200\n",
      "10/10 [==============================] - 0s 2ms/step - loss: 0.4986 - accuracy: 0.8511\n",
      "Epoch 38/200\n",
      "10/10 [==============================] - 0s 3ms/step - loss: 0.3524 - accuracy: 0.8936\n",
      "Epoch 39/200\n",
      "10/10 [==============================] - 0s 2ms/step - loss: 0.2929 - accuracy: 0.8936\n",
      "Epoch 40/200\n",
      "10/10 [==============================] - 0s 3ms/step - loss: 0.3425 - accuracy: 0.9149\n",
      "Epoch 41/200\n",
      "10/10 [==============================] - 0s 4ms/step - loss: 0.4395 - accuracy: 0.8298\n",
      "Epoch 42/200\n",
      "10/10 [==============================] - 0s 4ms/step - loss: 0.2196 - accuracy: 0.8936\n",
      "Epoch 43/200\n",
      "10/10 [==============================] - 0s 3ms/step - loss: 0.3696 - accuracy: 0.9149\n",
      "Epoch 44/200\n",
      "10/10 [==============================] - 0s 5ms/step - loss: 0.2416 - accuracy: 0.9574\n",
      "Epoch 45/200\n",
      "10/10 [==============================] - 0s 3ms/step - loss: 0.1977 - accuracy: 0.9574\n",
      "Epoch 46/200\n",
      "10/10 [==============================] - 0s 2ms/step - loss: 0.2986 - accuracy: 0.8936\n",
      "Epoch 47/200\n",
      "10/10 [==============================] - 0s 1ms/step - loss: 0.4211 - accuracy: 0.9149\n",
      "Epoch 48/200\n",
      "10/10 [==============================] - 0s 3ms/step - loss: 0.2649 - accuracy: 0.9149\n",
      "Epoch 49/200\n",
      "10/10 [==============================] - 0s 1ms/step - loss: 0.2577 - accuracy: 0.9574\n",
      "Epoch 50/200\n",
      "10/10 [==============================] - 0s 1ms/step - loss: 0.2114 - accuracy: 0.9787\n",
      "Epoch 51/200\n",
      "10/10 [==============================] - 0s 3ms/step - loss: 0.3172 - accuracy: 0.8723\n",
      "Epoch 52/200\n",
      "10/10 [==============================] - 0s 1ms/step - loss: 0.2940 - accuracy: 0.9362\n",
      "Epoch 53/200\n",
      "10/10 [==============================] - 0s 4ms/step - loss: 0.2467 - accuracy: 0.9362\n",
      "Epoch 54/200\n",
      "10/10 [==============================] - 0s 3ms/step - loss: 0.1893 - accuracy: 0.9574\n",
      "Epoch 55/200\n",
      "10/10 [==============================] - 0s 3ms/step - loss: 0.1320 - accuracy: 0.9787\n",
      "Epoch 56/200\n",
      "10/10 [==============================] - 0s 3ms/step - loss: 0.1913 - accuracy: 0.9574\n",
      "Epoch 57/200\n",
      "10/10 [==============================] - 0s 5ms/step - loss: 0.2551 - accuracy: 0.9362\n",
      "Epoch 58/200\n",
      "10/10 [==============================] - 0s 3ms/step - loss: 0.1610 - accuracy: 0.9574\n",
      "Epoch 59/200\n",
      "10/10 [==============================] - 0s 4ms/step - loss: 0.2598 - accuracy: 0.8723\n",
      "Epoch 60/200\n",
      "10/10 [==============================] - 0s 2ms/step - loss: 0.1738 - accuracy: 0.9362\n",
      "Epoch 61/200\n",
      "10/10 [==============================] - 0s 3ms/step - loss: 0.1804 - accuracy: 0.9787\n",
      "Epoch 62/200\n",
      "10/10 [==============================] - 0s 2ms/step - loss: 0.1716 - accuracy: 0.9787\n",
      "Epoch 63/200\n",
      "10/10 [==============================] - 0s 4ms/step - loss: 0.2637 - accuracy: 0.8936\n",
      "Epoch 64/200\n",
      "10/10 [==============================] - 0s 3ms/step - loss: 0.1351 - accuracy: 0.9574\n",
      "Epoch 65/200\n",
      "10/10 [==============================] - 0s 3ms/step - loss: 0.0980 - accuracy: 0.9787\n",
      "Epoch 66/200\n",
      "10/10 [==============================] - 0s 3ms/step - loss: 0.2577 - accuracy: 0.8936\n",
      "Epoch 67/200\n",
      "10/10 [==============================] - 0s 2ms/step - loss: 0.2203 - accuracy: 0.9362\n",
      "Epoch 68/200\n",
      "10/10 [==============================] - 0s 2ms/step - loss: 0.1640 - accuracy: 0.9574\n",
      "Epoch 69/200\n",
      "10/10 [==============================] - 0s 2ms/step - loss: 0.2020 - accuracy: 0.9574\n",
      "Epoch 70/200\n",
      "10/10 [==============================] - 0s 2ms/step - loss: 0.1358 - accuracy: 0.9574\n",
      "Epoch 71/200\n",
      "10/10 [==============================] - 0s 2ms/step - loss: 0.1348 - accuracy: 0.9574\n",
      "Epoch 72/200\n",
      "10/10 [==============================] - 0s 3ms/step - loss: 0.1147 - accuracy: 0.9574\n",
      "Epoch 73/200\n",
      "10/10 [==============================] - 0s 3ms/step - loss: 0.2803 - accuracy: 0.8723\n",
      "Epoch 74/200\n",
      "10/10 [==============================] - 0s 3ms/step - loss: 0.1572 - accuracy: 0.9362\n",
      "Epoch 75/200\n",
      "10/10 [==============================] - 0s 4ms/step - loss: 0.3717 - accuracy: 0.9149\n",
      "Epoch 76/200\n",
      "10/10 [==============================] - ETA: 0s - loss: 0.0364 - accuracy: 1.00 - 0s 3ms/step - loss: 0.1802 - accuracy: 0.9574\n",
      "Epoch 77/200\n",
      "10/10 [==============================] - 0s 3ms/step - loss: 0.1015 - accuracy: 0.9787\n",
      "Epoch 78/200\n",
      "10/10 [==============================] - 0s 3ms/step - loss: 0.0904 - accuracy: 1.0000\n",
      "Epoch 79/200\n",
      "10/10 [==============================] - 0s 2ms/step - loss: 0.0524 - accuracy: 1.0000\n",
      "Epoch 80/200\n",
      "10/10 [==============================] - 0s 4ms/step - loss: 0.1193 - accuracy: 0.9574\n",
      "Epoch 81/200\n",
      "10/10 [==============================] - 0s 2ms/step - loss: 0.1581 - accuracy: 0.9574\n",
      "Epoch 82/200\n",
      "10/10 [==============================] - 0s 3ms/step - loss: 0.1875 - accuracy: 0.9149\n",
      "Epoch 83/200\n",
      "10/10 [==============================] - 0s 2ms/step - loss: 0.1005 - accuracy: 0.9574\n",
      "Epoch 84/200\n",
      "10/10 [==============================] - 0s 4ms/step - loss: 0.1497 - accuracy: 0.9362\n",
      "Epoch 85/200\n",
      "10/10 [==============================] - 0s 3ms/step - loss: 0.1099 - accuracy: 0.9787\n",
      "Epoch 86/200\n",
      "10/10 [==============================] - 0s 4ms/step - loss: 0.0745 - accuracy: 1.0000\n",
      "Epoch 87/200\n",
      "10/10 [==============================] - 0s 5ms/step - loss: 0.1591 - accuracy: 0.9362\n",
      "Epoch 88/200\n",
      "10/10 [==============================] - 0s 2ms/step - loss: 0.1194 - accuracy: 0.9574\n",
      "Epoch 89/200\n",
      "10/10 [==============================] - 0s 2ms/step - loss: 0.0921 - accuracy: 0.9787\n",
      "Epoch 90/200\n",
      "10/10 [==============================] - 0s 1ms/step - loss: 0.2163 - accuracy: 0.9362\n",
      "Epoch 91/200\n",
      "10/10 [==============================] - 0s 2ms/step - loss: 0.0993 - accuracy: 0.9787\n",
      "Epoch 92/200\n",
      "10/10 [==============================] - 0s 4ms/step - loss: 0.1372 - accuracy: 0.9362\n",
      "Epoch 93/200\n",
      "10/10 [==============================] - 0s 3ms/step - loss: 0.1514 - accuracy: 0.8936\n",
      "Epoch 94/200\n",
      "10/10 [==============================] - 0s 4ms/step - loss: 0.0835 - accuracy: 0.9787\n",
      "Epoch 95/200\n",
      "10/10 [==============================] - 0s 4ms/step - loss: 0.0782 - accuracy: 1.0000\n",
      "Epoch 96/200\n",
      "10/10 [==============================] - 0s 3ms/step - loss: 0.0479 - accuracy: 0.9787\n",
      "Epoch 97/200\n",
      "10/10 [==============================] - 0s 3ms/step - loss: 0.2614 - accuracy: 0.9574\n",
      "Epoch 98/200\n",
      "10/10 [==============================] - 0s 2ms/step - loss: 0.1104 - accuracy: 0.9574\n",
      "Epoch 99/200\n",
      "10/10 [==============================] - 0s 2ms/step - loss: 0.1710 - accuracy: 0.9362\n",
      "Epoch 100/200\n",
      "10/10 [==============================] - 0s 2ms/step - loss: 0.0958 - accuracy: 0.9787\n",
      "Epoch 101/200\n",
      "10/10 [==============================] - 0s 2ms/step - loss: 0.1168 - accuracy: 0.9574\n",
      "Epoch 102/200\n",
      "10/10 [==============================] - 0s 2ms/step - loss: 0.1532 - accuracy: 0.9574\n",
      "Epoch 103/200\n",
      "10/10 [==============================] - 0s 4ms/step - loss: 0.1044 - accuracy: 0.9787\n",
      "Epoch 104/200\n",
      "10/10 [==============================] - 0s 3ms/step - loss: 0.0493 - accuracy: 1.0000\n",
      "Epoch 105/200\n",
      "10/10 [==============================] - 0s 3ms/step - loss: 0.0961 - accuracy: 0.9574\n",
      "Epoch 106/200\n",
      "10/10 [==============================] - 0s 3ms/step - loss: 0.0722 - accuracy: 0.9787\n",
      "Epoch 107/200\n",
      "10/10 [==============================] - 0s 4ms/step - loss: 0.0530 - accuracy: 1.0000\n",
      "Epoch 108/200\n",
      "10/10 [==============================] - 0s 3ms/step - loss: 0.1106 - accuracy: 0.9574\n",
      "Epoch 109/200\n",
      "10/10 [==============================] - 0s 2ms/step - loss: 0.0975 - accuracy: 0.9787\n",
      "Epoch 110/200\n",
      "10/10 [==============================] - 0s 2ms/step - loss: 0.1205 - accuracy: 0.9362\n",
      "Epoch 111/200\n",
      "10/10 [==============================] - 0s 2ms/step - loss: 0.0438 - accuracy: 1.0000\n",
      "Epoch 112/200\n",
      "10/10 [==============================] - 0s 2ms/step - loss: 0.0681 - accuracy: 1.0000\n",
      "Epoch 113/200\n",
      "10/10 [==============================] - 0s 1ms/step - loss: 0.1073 - accuracy: 0.9574\n",
      "Epoch 114/200\n",
      "10/10 [==============================] - 0s 2ms/step - loss: 0.0391 - accuracy: 1.0000\n",
      "Epoch 115/200\n",
      "10/10 [==============================] - 0s 3ms/step - loss: 0.0687 - accuracy: 0.9787\n",
      "Epoch 116/200\n",
      "10/10 [==============================] - 0s 3ms/step - loss: 0.0541 - accuracy: 0.9787\n",
      "Epoch 117/200\n",
      "10/10 [==============================] - 0s 3ms/step - loss: 0.1386 - accuracy: 0.9574\n",
      "Epoch 118/200\n",
      "10/10 [==============================] - 0s 3ms/step - loss: 0.0483 - accuracy: 1.0000\n",
      "Epoch 119/200\n",
      "10/10 [==============================] - 0s 3ms/step - loss: 0.0344 - accuracy: 1.0000\n",
      "Epoch 120/200\n",
      "10/10 [==============================] - 0s 3ms/step - loss: 0.0577 - accuracy: 1.0000\n",
      "Epoch 121/200\n",
      "10/10 [==============================] - 0s 5ms/step - loss: 0.1019 - accuracy: 0.9787\n",
      "Epoch 122/200\n",
      "10/10 [==============================] - 0s 2ms/step - loss: 0.0656 - accuracy: 1.0000\n",
      "Epoch 123/200\n",
      "10/10 [==============================] - 0s 2ms/step - loss: 0.0685 - accuracy: 0.9787\n",
      "Epoch 124/200\n",
      "10/10 [==============================] - 0s 2ms/step - loss: 0.0475 - accuracy: 1.0000\n",
      "Epoch 125/200\n",
      "10/10 [==============================] - 0s 2ms/step - loss: 0.0599 - accuracy: 0.9787\n",
      "Epoch 126/200\n",
      "10/10 [==============================] - 0s 2ms/step - loss: 0.0608 - accuracy: 1.0000\n",
      "Epoch 127/200\n",
      "10/10 [==============================] - 0s 2ms/step - loss: 0.0715 - accuracy: 0.9787\n",
      "Epoch 128/200\n",
      "10/10 [==============================] - 0s 1ms/step - loss: 0.1569 - accuracy: 0.9574\n",
      "Epoch 129/200\n",
      "10/10 [==============================] - 0s 3ms/step - loss: 0.0316 - accuracy: 1.0000\n",
      "Epoch 130/200\n",
      "10/10 [==============================] - 0s 2ms/step - loss: 0.0805 - accuracy: 0.9787\n",
      "Epoch 131/200\n",
      "10/10 [==============================] - 0s 3ms/step - loss: 0.1754 - accuracy: 0.9574\n",
      "Epoch 132/200\n",
      "10/10 [==============================] - 0s 3ms/step - loss: 0.1105 - accuracy: 0.9787\n",
      "Epoch 133/200\n",
      "10/10 [==============================] - 0s 7ms/step - loss: 0.0752 - accuracy: 1.0000\n",
      "Epoch 134/200\n",
      "10/10 [==============================] - 0s 4ms/step - loss: 0.1103 - accuracy: 0.9574\n",
      "Epoch 135/200\n",
      "10/10 [==============================] - 0s 3ms/step - loss: 0.0520 - accuracy: 1.0000\n",
      "Epoch 136/200\n",
      "10/10 [==============================] - 0s 2ms/step - loss: 0.0837 - accuracy: 0.9787\n",
      "Epoch 137/200\n",
      "10/10 [==============================] - 0s 3ms/step - loss: 0.1698 - accuracy: 0.9574\n",
      "Epoch 138/200\n",
      "10/10 [==============================] - 0s 2ms/step - loss: 0.0840 - accuracy: 0.9787\n",
      "Epoch 139/200\n",
      "10/10 [==============================] - 0s 2ms/step - loss: 0.0932 - accuracy: 0.9574\n",
      "Epoch 140/200\n",
      "10/10 [==============================] - 0s 1ms/step - loss: 0.1439 - accuracy: 0.9574\n",
      "Epoch 141/200\n",
      "10/10 [==============================] - 0s 3ms/step - loss: 0.1160 - accuracy: 0.9362\n",
      "Epoch 142/200\n",
      "10/10 [==============================] - 0s 3ms/step - loss: 0.0346 - accuracy: 1.0000\n",
      "Epoch 143/200\n",
      "10/10 [==============================] - 0s 3ms/step - loss: 0.0363 - accuracy: 1.0000\n",
      "Epoch 144/200\n",
      "10/10 [==============================] - 0s 2ms/step - loss: 0.1345 - accuracy: 0.9787\n",
      "Epoch 145/200\n",
      "10/10 [==============================] - 0s 2ms/step - loss: 0.1373 - accuracy: 0.9362\n",
      "Epoch 146/200\n",
      "10/10 [==============================] - 0s 4ms/step - loss: 0.0363 - accuracy: 1.0000\n",
      "Epoch 147/200\n",
      "10/10 [==============================] - 0s 3ms/step - loss: 0.0702 - accuracy: 0.9787\n",
      "Epoch 148/200\n",
      "10/10 [==============================] - 0s 2ms/step - loss: 0.0483 - accuracy: 1.0000\n",
      "Epoch 149/200\n",
      "10/10 [==============================] - 0s 2ms/step - loss: 0.0881 - accuracy: 0.9787\n",
      "Epoch 150/200\n",
      "10/10 [==============================] - 0s 4ms/step - loss: 0.1668 - accuracy: 0.9787\n",
      "Epoch 151/200\n",
      "10/10 [==============================] - 0s 2ms/step - loss: 0.0151 - accuracy: 1.0000\n",
      "Epoch 152/200\n",
      "10/10 [==============================] - 0s 2ms/step - loss: 0.0097 - accuracy: 1.0000\n",
      "Epoch 153/200\n",
      "10/10 [==============================] - 0s 2ms/step - loss: 0.0624 - accuracy: 0.9787\n",
      "Epoch 154/200\n",
      "10/10 [==============================] - 0s 3ms/step - loss: 0.1141 - accuracy: 0.9362\n",
      "Epoch 155/200\n",
      "10/10 [==============================] - 0s 3ms/step - loss: 0.1212 - accuracy: 0.9574\n",
      "Epoch 156/200\n",
      "10/10 [==============================] - 0s 3ms/step - loss: 0.0799 - accuracy: 0.9787\n",
      "Epoch 157/200\n",
      "10/10 [==============================] - 0s 3ms/step - loss: 0.1538 - accuracy: 0.9362\n",
      "Epoch 158/200\n",
      "10/10 [==============================] - 0s 5ms/step - loss: 0.1462 - accuracy: 0.9574\n",
      "Epoch 159/200\n",
      "10/10 [==============================] - 0s 2ms/step - loss: 0.0851 - accuracy: 0.9574\n",
      "Epoch 160/200\n",
      "10/10 [==============================] - 0s 1ms/step - loss: 0.1888 - accuracy: 0.9362\n",
      "Epoch 161/200\n",
      "10/10 [==============================] - 0s 2ms/step - loss: 0.0300 - accuracy: 1.0000\n",
      "Epoch 162/200\n",
      "10/10 [==============================] - 0s 2ms/step - loss: 0.0854 - accuracy: 0.9574\n",
      "Epoch 163/200\n",
      "10/10 [==============================] - 0s 1ms/step - loss: 0.0410 - accuracy: 0.9787\n",
      "Epoch 164/200\n",
      "10/10 [==============================] - 0s 2ms/step - loss: 0.1703 - accuracy: 0.9362\n",
      "Epoch 165/200\n",
      "10/10 [==============================] - 0s 2ms/step - loss: 0.0928 - accuracy: 0.9787\n",
      "Epoch 166/200\n",
      "10/10 [==============================] - 0s 1ms/step - loss: 0.0604 - accuracy: 0.9787\n",
      "Epoch 167/200\n",
      "10/10 [==============================] - 0s 2ms/step - loss: 0.0196 - accuracy: 1.0000\n",
      "Epoch 168/200\n",
      "10/10 [==============================] - 0s 2ms/step - loss: 0.0443 - accuracy: 0.9787\n",
      "Epoch 169/200\n",
      "10/10 [==============================] - 0s 3ms/step - loss: 0.0641 - accuracy: 0.9787\n",
      "Epoch 170/200\n",
      "10/10 [==============================] - 0s 3ms/step - loss: 0.0267 - accuracy: 1.0000\n",
      "Epoch 171/200\n",
      "10/10 [==============================] - 0s 3ms/step - loss: 0.0546 - accuracy: 0.9787\n",
      "Epoch 172/200\n",
      "10/10 [==============================] - 0s 2ms/step - loss: 0.0179 - accuracy: 1.0000\n",
      "Epoch 173/200\n",
      "10/10 [==============================] - 0s 2ms/step - loss: 0.0245 - accuracy: 1.0000\n",
      "Epoch 174/200\n",
      "10/10 [==============================] - 0s 5ms/step - loss: 0.0529 - accuracy: 0.9787\n",
      "Epoch 175/200\n",
      "10/10 [==============================] - 0s 3ms/step - loss: 0.0867 - accuracy: 0.9574\n",
      "Epoch 176/200\n",
      "10/10 [==============================] - 0s 2ms/step - loss: 0.0769 - accuracy: 0.9787\n",
      "Epoch 177/200\n",
      "10/10 [==============================] - 0s 2ms/step - loss: 0.0193 - accuracy: 1.0000\n",
      "Epoch 178/200\n",
      "10/10 [==============================] - 0s 1ms/step - loss: 0.0291 - accuracy: 0.9787\n",
      "Epoch 179/200\n",
      "10/10 [==============================] - 0s 1ms/step - loss: 0.0493 - accuracy: 1.0000\n",
      "Epoch 180/200\n",
      "10/10 [==============================] - 0s 2ms/step - loss: 0.1067 - accuracy: 0.9362\n",
      "Epoch 181/200\n",
      "10/10 [==============================] - 0s 2ms/step - loss: 0.0176 - accuracy: 1.0000\n",
      "Epoch 182/200\n",
      "10/10 [==============================] - 0s 2ms/step - loss: 0.0619 - accuracy: 1.0000\n",
      "Epoch 183/200\n",
      "10/10 [==============================] - 0s 3ms/step - loss: 0.0532 - accuracy: 1.0000\n",
      "Epoch 184/200\n",
      "10/10 [==============================] - 0s 2ms/step - loss: 0.0607 - accuracy: 0.9787\n",
      "Epoch 185/200\n",
      "10/10 [==============================] - 0s 3ms/step - loss: 0.0637 - accuracy: 0.9574\n",
      "Epoch 186/200\n",
      "10/10 [==============================] - 0s 2ms/step - loss: 0.0566 - accuracy: 0.9787\n",
      "Epoch 187/200\n",
      "10/10 [==============================] - 0s 3ms/step - loss: 0.0959 - accuracy: 0.9574\n",
      "Epoch 188/200\n",
      "10/10 [==============================] - 0s 3ms/step - loss: 0.0185 - accuracy: 1.0000\n",
      "Epoch 189/200\n",
      "10/10 [==============================] - 0s 3ms/step - loss: 0.0445 - accuracy: 0.9787\n",
      "Epoch 190/200\n",
      "10/10 [==============================] - 0s 3ms/step - loss: 0.0187 - accuracy: 1.0000\n",
      "Epoch 191/200\n",
      "10/10 [==============================] - 0s 2ms/step - loss: 0.0399 - accuracy: 1.0000\n",
      "Epoch 192/200\n",
      "10/10 [==============================] - 0s 2ms/step - loss: 0.0573 - accuracy: 0.9787\n",
      "Epoch 193/200\n",
      "10/10 [==============================] - 0s 2ms/step - loss: 0.0150 - accuracy: 1.0000\n",
      "Epoch 194/200\n",
      "10/10 [==============================] - 0s 3ms/step - loss: 0.0304 - accuracy: 1.0000\n",
      "Epoch 195/200\n",
      "10/10 [==============================] - 0s 2ms/step - loss: 0.0448 - accuracy: 0.9787\n",
      "Epoch 196/200\n",
      "10/10 [==============================] - 0s 2ms/step - loss: 0.0469 - accuracy: 0.9787\n",
      "Epoch 197/200\n",
      "10/10 [==============================] - 0s 1ms/step - loss: 0.0183 - accuracy: 1.0000\n",
      "Epoch 198/200\n",
      "10/10 [==============================] - 0s 3ms/step - loss: 0.0474 - accuracy: 1.0000\n",
      "Epoch 199/200\n",
      "10/10 [==============================] - 0s 3ms/step - loss: 0.0366 - accuracy: 1.0000\n",
      "Epoch 200/200\n",
      "10/10 [==============================] - 0s 3ms/step - loss: 0.0542 - accuracy: 1.0000\n"
     ]
    }
   ],
   "source": [
    "assistant=GenericAssistant('palabras.json',intent_methods=mappings)\n",
    "assistant.train_model()"
   ]
  },
  {
   "cell_type": "code",
   "execution_count": null,
   "id": "1c69906a-5510-4c7d-a4ad-f2c7e9baa755",
   "metadata": {
    "tags": []
   },
   "outputs": [],
   "source": [
    "while True:\n",
    "    try:\n",
    "        with speech_recognition.Microphone() as mic:\n",
    "            recognizer.adjust_for_ambient_noise(mic,duration=0.2)\n",
    "            audio=recognizer.listen(mic)\n",
    "            message=recognizer.recognize_google(audio,language=\"es-CO\")\n",
    "            message=message.lower()\n",
    "        assistant.request(message)\n",
    "    except speech_recognition.UnknownValueError:\n",
    "        recognizer=speech_recognition.Recognizer()"
   ]
  },
  {
   "cell_type": "markdown",
   "id": "f565c47d-5553-438c-a6b9-cafa0d32598e",
   "metadata": {},
   "source": [
    "## Noticias "
   ]
  },
  {
   "cell_type": "code",
   "execution_count": 50,
   "id": "05c12052-0639-41df-a2b4-5716699875e0",
   "metadata": {},
   "outputs": [
    {
     "data": {
      "text/plain": [
       "[{'title': 'Whatsapp permitirá convertir fotos en stickers en la misma app - El Tiempo',\n",
       "  'link': 'https://news.google.com/__i/rss/rd/articles/CBMiVGh0dHBzOi8vd3d3LmVsdGllbXBvLmNvbS90ZWNub3NmZXJhL3doYXRzYXBwLWNvbW8tY29udmVydGlyLWZvdG9zLWVuLXN0aWNrZXJzLTYxODg4NNIBAA?oc=5',\n",
       "  'media': None},\n",
       " {'title': 'Padres de familia del Liceo Francés hacen llamado a Policía por inseguridad - El Tiempo',\n",
       "  'link': 'https://news.google.com/__i/rss/rd/articles/CBMibGh0dHBzOi8vd3d3LmVsdGllbXBvLmNvbS9ib2dvdGEvcm9ib3MtZW4tYm9nb3RhLXBhZHJlcy1kZWwtbGljZW8tZnJhbmNlcy1waWRlbi1zZWd1cmlkYWQtYS1sYS1wb2xpY2lhLTYxODYwNdIBAA?oc=5',\n",
       "  'media': None},\n",
       " {'title': 'Samsung y Xiaomi destrozan a Apple por las \"nuevas\" características en el iPhone 13 - Pulzo.com',\n",
       "  'link': 'https://news.google.com/__i/rss/rd/articles/CBMia2h0dHBzOi8vd3d3LnB1bHpvLmNvbS90ZWNub2xvZ2lhL3NhbXN1bmcteGlvYW1pLWJ1cmxhbi1hcHBsZS1wb3ItbnVldmFzLWNhcmFjdGVyaXN0aWNhcy1pcGhvbmUtMTMtUFAxMDc3NDY20gFvaHR0cHM6Ly93d3cucHVsem8uY29tL2FtcC90ZWNub2xvZ2lhL3NhbXN1bmcteGlvYW1pLWJ1cmxhbi1hcHBsZS1wb3ItbnVldmFzLWNhcmFjdGVyaXN0aWNhcy1pcGhvbmUtMTMtUFAxMDc3NDY2?oc=5',\n",
       "  'media': None},\n",
       " {'title': 'Cómo evitar que apaguen y cómo rastrear su celular Android en caso de robo - El Tiempo',\n",
       "  'link': 'https://news.google.com/__i/rss/rd/articles/CBMiggFodHRwczovL3d3dy5lbHRpZW1wby5jb20vdGVjbm9zZmVyYS90dXRvcmlhbGVzLXRlY25vbG9naWEvY29tby1yYXN0cmVhci1lbC1jZWx1bGFyLXktZXZpdGFyLXF1ZS1sby1hcGFndWVuLWN1YW5kby1lcy1yb2JhZG8tNjE4Mjgw0gEA?oc=5',\n",
       "  'media': None},\n",
       " {'title': 'Países donde sale más barato (o más caro) comprar el nuevo iPhone 13 - Pulzo.com',\n",
       "  'link': 'https://news.google.com/__i/rss/rd/articles/CBMiaWh0dHBzOi8vd3d3LnB1bHpvLmNvbS90ZWNub2xvZ2lhL2xpc3RhZG8tcGFpc2VzLWRvbmRlLXByZWNpby1udWV2by1pcGhvbmUtMTMtc2FsZS1iYXJhdG8tby1jYXJvLVBQMTA3NzMxOdIBbWh0dHBzOi8vd3d3LnB1bHpvLmNvbS9hbXAvdGVjbm9sb2dpYS9saXN0YWRvLXBhaXNlcy1kb25kZS1wcmVjaW8tbnVldm8taXBob25lLTEzLXNhbGUtYmFyYXRvLW8tY2Fyby1QUDEwNzczMTk?oc=5',\n",
       "  'media': None}]"
      ]
     },
     "execution_count": 50,
     "metadata": {},
     "output_type": "execute_result"
    }
   ],
   "source": [
    "# declare a NewsClient object \n",
    "client = gnewsclient.NewsClient(language='spanish', location='Colombia', topic='Tecnología', max_results=5)\n",
    "  \n",
    "# get news feed\n",
    "noticias = client.get_news()\n",
    "noticias"
   ]
  },
  {
   "cell_type": "code",
   "execution_count": 51,
   "id": "c95b93b5-1599-4679-9eb6-8aa893d14a73",
   "metadata": {},
   "outputs": [
    {
     "data": {
      "text/plain": [
       "{'title': 'Whatsapp permitirá convertir fotos en stickers en la misma app - El Tiempo',\n",
       " 'link': 'https://news.google.com/__i/rss/rd/articles/CBMiVGh0dHBzOi8vd3d3LmVsdGllbXBvLmNvbS90ZWNub3NmZXJhL3doYXRzYXBwLWNvbW8tY29udmVydGlyLWZvdG9zLWVuLXN0aWNrZXJzLTYxODg4NNIBAA?oc=5',\n",
       " 'media': None}"
      ]
     },
     "execution_count": 51,
     "metadata": {},
     "output_type": "execute_result"
    }
   ],
   "source": [
    "noticias[0]"
   ]
  },
  {
   "cell_type": "code",
   "execution_count": 52,
   "id": "80443191-0fef-42e8-8cb7-e5e5bbd13d9f",
   "metadata": {},
   "outputs": [],
   "source": [
    "speaker.say(noticias[1]['title'])\n",
    "speaker.runAndWait()"
   ]
  },
  {
   "cell_type": "code",
   "execution_count": 53,
   "id": "00e455bd-8c48-4029-ab6c-8b6df6921566",
   "metadata": {},
   "outputs": [],
   "source": [
    "noticia_elegida = 0\n",
    "url = noticias[noticia_elegida]['link']\n",
    "res = requests.get(url)\n",
    "html_page = res.content\n",
    "\n",
    "soup = BeautifulSoup(html_page, 'html.parser')\n",
    "text = soup.find_all('p')\n",
    "#text"
   ]
  },
  {
   "cell_type": "code",
   "execution_count": 54,
   "id": "3c23cbc4-1ca8-471f-908e-48a5208a63bb",
   "metadata": {},
   "outputs": [],
   "source": [
    "texto = [texts for texts in list(text) if len(texts)>4]"
   ]
  },
  {
   "cell_type": "code",
   "execution_count": 55,
   "id": "75082595-745d-4d40-ad93-24d2e4baadc3",
   "metadata": {},
   "outputs": [
    {
     "name": "stdout",
     "output_type": "stream",
     "text": [
      "[       Whatsapp   permitirá convertir fotos en   stickers   sin necesidad de usar  aplicaciones externas o de terceros. Así se puede ver en las especificaciones  de prueba de versiones venideras que los desarrolladores pueden revisar  previamente.        Como siempre el portal WaBeta Info revela con antelación las funciones que  pronto se liberarán para   Whatsapp   , siendo esta una de las mas  interesantes y curiosas y que resuelve una constante petición de los usuarios.    ,      En contexto:   [  Las ocasiones en que WhatsApp revisa los mensajes de sus  usuarios  ]         Usted solo tendrá que tocar una fotografía de manera sostenida para que se  active un botón de stickers. Dicha foto puede ser seleccionada desde su  carrete de imágenes del celular. Al tocar el botón de stickers, esa foto  quedará automáticamente convertida en uno que podrá compartir de inmediato.          Interesante:   [  ¿Cómo bloquear su WhatsApp para que se abra solo con su  huella o Face ID?  ]         También podrá almacenar ese sticker, igualmente la persona o personas en el  grupo que lo reciba, en su pestaña de stickers de Whatsapp favoritos, según  explican en el anuncio de [WaBeta Info] .          No olvide:   [  WhatsApp: cómo saber lo que dice un audio sin  escucharlo  ]     ]    \n"
     ]
    }
   ],
   "source": [
    "texto_limpio = html2text.html2text(''.join(str(texto[2:])))\n",
    "#print(texto_limpio)\n",
    "texto_limpio = re.sub(r'\\([^)]*\\)',' ',texto_limpio)\n",
    "texto_limpio = re.sub(r'\\n','  ',texto_limpio)\n",
    "texto_limpio = re.sub(r'\\*',' ',texto_limpio)\n",
    "print(texto_limpio)\n",
    "#speaker.say(texto_limpio)\n",
    "#speaker.runAndWait()"
   ]
  },
  {
   "cell_type": "code",
   "execution_count": 56,
   "id": "f0eaaed2-dc3e-47cc-aa3f-a84f882eeff3",
   "metadata": {},
   "outputs": [],
   "source": [
    "translator = pipeline(\"translation\", model=\"Helsinki-NLP/opus-mt-es-en\")"
   ]
  },
  {
   "cell_type": "code",
   "execution_count": 57,
   "id": "23287594-3b93-45ff-98b2-044c661b7870",
   "metadata": {},
   "outputs": [
    {
     "data": {
      "text/plain": [
       "['[       Whatsapp   permitirá convertir fotos en   stickers   sin necesidad de usar  aplicaciones externas o de terceros.',\n",
       " 'Así se puede ver en las especificaciones  de prueba de versiones venideras que los desarrolladores pueden revisar  previamente.',\n",
       " 'Como siempre el portal WaBeta Info revela con antelación las funciones que  pronto se liberarán para   Whatsapp   , siendo esta una de las mas  interesantes y curiosas y que resuelve una constante petición de los usuarios.',\n",
       " ',      En contexto:   [  Las ocasiones en que WhatsApp revisa los mensajes de sus  usuarios  ]         Usted solo tendrá que tocar una fotografía de manera sostenida para que se  active un botón de stickers.',\n",
       " 'Dicha foto puede ser seleccionada desde su  carrete de imágenes del celular.',\n",
       " 'Al tocar el botón de stickers, esa foto  quedará automáticamente convertida en uno que podrá compartir de inmediato.',\n",
       " 'Interesante:   [',\n",
       " '¿Cómo bloquear su WhatsApp para que se abra solo con su  huella o Face ID?',\n",
       " ']         También podrá almacenar ese sticker, igualmente la persona o personas en el  grupo que lo reciba, en su pestaña de stickers de Whatsapp favoritos, según  explican en el anuncio de [WaBeta Info] .',\n",
       " 'No olvide:   [  WhatsApp: cómo saber lo que dice un audio sin  escucharlo  ]     ]']"
      ]
     },
     "execution_count": 57,
     "metadata": {},
     "output_type": "execute_result"
    }
   ],
   "source": [
    "from sentence_utils import split_into_sentences\n",
    "frase = split_into_sentences(texto_limpio)\n",
    "frase"
   ]
  },
  {
   "cell_type": "code",
   "execution_count": 58,
   "id": "13aa0866-e57e-4448-a613-77bb80a07145",
   "metadata": {},
   "outputs": [],
   "source": [
    "sentence = translator(frase)"
   ]
  },
  {
   "cell_type": "code",
   "execution_count": 59,
   "id": "0b554f69-8caa-4921-be33-fe05e4edb46f",
   "metadata": {},
   "outputs": [
    {
     "data": {
      "text/plain": [
       "[{'translation_text': '[Whatsapp will allow you to convert photos into stickers without using external or third-party applications.'},\n",
       " {'translation_text': 'So you can see in the test specifications of upcoming versions that developers can review in advance.'},\n",
       " {'translation_text': 'As always the WaBeta Info portal reveals in advance the functions that will soon be released for Whatsapp, being one of the most interesting and curious and that solves a constant request of users.'},\n",
       " {'translation_text': ', In context: [The occasions WhatsApp reviews the messages of its users ] You will only have to touch a photograph in a sustained way to activate a sticker button.'},\n",
       " {'translation_text': 'This photo can be selected from your cell phone image reel.'},\n",
       " {'translation_text': 'When you touch the sticker button, that photo will automatically become one that you can share immediately.'},\n",
       " {'translation_text': 'Interesting: ['},\n",
       " {'translation_text': 'How to block your WhatsApp so it opens only with your fingerprint or Face ID?'},\n",
       " {'translation_text': '] You may also store that sticker, as well as the person or persons in the group that receives it, in your favorite Whatsapp stickers tab, as explained in the [WaBeta Info] ad.'},\n",
       " {'translation_text': \"Don't forget: [ WhatsApp: how to know what an audio says without listening to it ] ]\"}]"
      ]
     },
     "execution_count": 59,
     "metadata": {},
     "output_type": "execute_result"
    }
   ],
   "source": [
    "sentence"
   ]
  },
  {
   "cell_type": "code",
   "execution_count": 60,
   "id": "e50b2df0-d9e3-4ca1-84f1-a7f0bdd0cbde",
   "metadata": {},
   "outputs": [
    {
     "data": {
      "text/plain": [
       "\"[Whatsapp will allow you to convert photos into stickers without using external or third-party applications. So you can see in the test specifications of upcoming versions that developers can review in advance. As always the WaBeta Info portal reveals in advance the functions that will soon be released for Whatsapp, being one of the most interesting and curious and that solves a constant request of users. , In context: [The occasions WhatsApp reviews the messages of its users ] You will only have to touch a photograph in a sustained way to activate a sticker button. This photo can be selected from your cell phone image reel. When you touch the sticker button, that photo will automatically become one that you can share immediately. Interesting: [ How to block your WhatsApp so it opens only with your fingerprint or Face ID? ] You may also store that sticker, as well as the person or persons in the group that receives it, in your favorite Whatsapp stickers tab, as explained in the [WaBeta Info] ad. Don't forget: [ WhatsApp: how to know what an audio says without listening to it ] ]\""
      ]
     },
     "execution_count": 60,
     "metadata": {},
     "output_type": "execute_result"
    }
   ],
   "source": [
    "todo_texto = [sentences['translation_text'] for sentences in sentence]\n",
    "todo_texto = ' '.join(todo_texto)\n",
    "todo_texto"
   ]
  },
  {
   "cell_type": "code",
   "execution_count": 63,
   "id": "af08299f-03ee-44bf-ad67-2b8a264e95fc",
   "metadata": {},
   "outputs": [
    {
     "name": "stderr",
     "output_type": "stream",
     "text": [
      "No model was supplied, defaulted to sshleifer/distilbart-cnn-12-6 (https://huggingface.co/sshleifer/distilbart-cnn-12-6)\n"
     ]
    }
   ],
   "source": [
    "summarizer = pipeline(\"summarization\")"
   ]
  },
  {
   "cell_type": "code",
   "execution_count": 64,
   "id": "b199371c-5320-4712-a56b-06c84c99497e",
   "metadata": {},
   "outputs": [],
   "source": [
    "resumen = summarizer(todo_texto)"
   ]
  },
  {
   "cell_type": "code",
   "execution_count": 65,
   "id": "cdc17ee4-ef8f-4045-a966-105920f71340",
   "metadata": {},
   "outputs": [
    {
     "data": {
      "text/plain": [
       "' WaBeta Info portal reveals in advance the functions that will soon be released for Whatsapp . You will only have to touch a photograph in a sustained way to activate a sticker button . This photo can be selected from your cell phone image reel . When you touch the sticker button, that photo will automatically become one that you can share immediately .'"
      ]
     },
     "execution_count": 65,
     "metadata": {},
     "output_type": "execute_result"
    }
   ],
   "source": [
    "resumen_en = resumen[0]['summary_text']\n",
    "resumen_en"
   ]
  },
  {
   "cell_type": "code",
   "execution_count": 66,
   "id": "5c16c2e6-98b4-4482-bea7-21620dd0d785",
   "metadata": {},
   "outputs": [],
   "source": [
    "translator_en_es = pipeline(\"translation\", model=\"Helsinki-NLP/opus-mt-en-es\")"
   ]
  },
  {
   "cell_type": "code",
   "execution_count": 67,
   "id": "a7529c4f-9066-4e77-a4c9-56b620756010",
   "metadata": {},
   "outputs": [],
   "source": [
    "resumen_es_list = translator_en_es(resumen_en)"
   ]
  },
  {
   "cell_type": "code",
   "execution_count": 68,
   "id": "229cc216-ad3b-4579-8d7a-cab1e77f0c4b",
   "metadata": {},
   "outputs": [
    {
     "data": {
      "text/plain": [
       "'El portal WaBeta Info revela de antemano las funciones que pronto serán lanzadas para Whatsapp . Sólo tendrá que tocar una fotografía de forma sostenida para activar un botón de pegatina . Esta foto se puede seleccionar desde el carrete de la imagen del teléfono celular . Cuando toque el botón de pegatina , esa foto se convertirá automáticamente en una que se puede compartir inmediatamente .'"
      ]
     },
     "execution_count": 68,
     "metadata": {},
     "output_type": "execute_result"
    }
   ],
   "source": [
    "resumen_es = resumen_es_list[0]['translation_text']\n",
    "resumen_es"
   ]
  },
  {
   "cell_type": "code",
   "execution_count": 69,
   "id": "32174048-013c-419b-9f2e-c01c6fb2d4b5",
   "metadata": {},
   "outputs": [],
   "source": [
    "speaker.say(resumen_es)\n",
    "speaker.runAndWait()"
   ]
  },
  {
   "cell_type": "code",
   "execution_count": 71,
   "id": "24ca7064-94e6-4779-8f2e-333ac02163c2",
   "metadata": {},
   "outputs": [
    {
     "data": {
      "text/plain": [
       "['Whatsapp permitirá convertir fotos en stickers en la misma app',\n",
       " 'Padres de familia del Liceo Francés hacen llamado a Policía por inseguridad',\n",
       " 'Samsung y Xiaomi destrozan a Apple por las \"nuevas\" características en el iPhone 13',\n",
       " 'Cómo evitar que apaguen y cómo rastrear su celular Android en caso de robo',\n",
       " 'Países donde sale más barato (o más caro) comprar el nuevo iPhone 13']"
      ]
     },
     "execution_count": 71,
     "metadata": {},
     "output_type": "execute_result"
    }
   ],
   "source": [
    "noticias_encabezados = [noticia['title'] for noticia in noticias]\n",
    "noticias_encabezados = [re.sub(' -\\s.*\\S$','',noticias_encabezado) for noticias_encabezado in noticias_encabezados]\n",
    "noticias_encabezados"
   ]
  },
  {
   "cell_type": "code",
   "execution_count": null,
   "id": "b3defd6c-eea0-42cd-823e-8ebb4cb1fe08",
   "metadata": {},
   "outputs": [],
   "source": [
    "!python -m spacy download es_core_news_lg"
   ]
  },
  {
   "cell_type": "code",
   "execution_count": 72,
   "id": "8cd8b67a-dfa7-40d3-b2f9-5b3b0594f05f",
   "metadata": {},
   "outputs": [],
   "source": [
    "nlp = spacy.load('es_core_news_lg')"
   ]
  },
  {
   "cell_type": "code",
   "execution_count": 74,
   "id": "3afafcbb-164b-4ffb-90b1-408f27b2119c",
   "metadata": {},
   "outputs": [
    {
     "data": {
      "text/plain": [
       "[0.12374630824919926,\n",
       " 0.3852905161744063,\n",
       " 0.08033732324755001,\n",
       " 0.23713419326636698,\n",
       " -0.10259521986963996]"
      ]
     },
     "execution_count": 74,
     "metadata": {},
     "output_type": "execute_result"
    }
   ],
   "source": [
    "texto_comparar = nlp('policia')\n",
    "\n",
    "[nlp(encabezado).similarity(texto_comparar) for encabezado in noticias_encabezados]"
   ]
  },
  {
   "cell_type": "code",
   "execution_count": 153,
   "id": "4d150f27-6f42-443a-80a8-ce696fe09e7d",
   "metadata": {},
   "outputs": [
    {
     "name": "stdout",
     "output_type": "stream",
     "text": [
      "huggingface/tokenizers: The current process just got forked, after parallelism has already been used. Disabling parallelism to avoid deadlocks...\n",
      "To disable this warning, you can either:\n",
      "\t- Avoid using `tokenizers` before the fork if possible\n",
      "\t- Explicitly set the environment variable TOKENIZERS_PARALLELISM=(true | false)\n",
      "No caiga con el nuevo emoji de labios mordidos en WhatsApp: tiene 2 significados opuestos\n",
      "emoji\n"
     ]
    }
   ],
   "source": [
    "try:\n",
    "    with speech_recognition.Microphone() as mic:\n",
    "        recognizer.adjust_for_ambient_noise(mic,duration=0.2)\n",
    "        audio=recognizer.listen(mic)\n",
    "        ticker=recognizer.recognize_google(audio,language=\"es-CO\")#item\n",
    "        similitud = [nlp(encabezado).similarity(nlp(ticker)) for encabezado in noticias_encabezados]\n",
    "        cual_not = noticias_encabezados[np.argmax(np.array(similitud))]\n",
    "    \n",
    "except speech_recognition.UnknownValueError:\n",
    "    recognizer=speech_recognition.Recognizer()\n",
    "    speaker.say(\"No entendi lo que dijiste, por favor podrias repetir?\")\n",
    "    speaker.runAndWait()\n",
    "\n",
    "print(cual_not)\n",
    "print(ticker)"
   ]
  }
 ],
 "metadata": {
  "kernelspec": {
   "display_name": "Python 3 (ipykernel)",
   "language": "python",
   "name": "python3"
  },
  "language_info": {
   "codemirror_mode": {
    "name": "ipython",
    "version": 3
   },
   "file_extension": ".py",
   "mimetype": "text/x-python",
   "name": "python",
   "nbconvert_exporter": "python",
   "pygments_lexer": "ipython3",
   "version": "3.8.10"
  }
 },
 "nbformat": 4,
 "nbformat_minor": 5
}
