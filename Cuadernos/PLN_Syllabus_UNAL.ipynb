{
 "cells": [
  {
   "cell_type": "markdown",
   "id": "f06fe6a3-6d23-4a66-a05a-a5a5dddbf11c",
   "metadata": {},
   "source": [
    "<figure>\n",
    "<img src=\"../Imagenes/logo_depto.png\"  width=\"150\" height=\"150\" align=\"left\"/> \n",
    "</figure>\n",
    "\n",
    "# <span style=\"color:blue\"><left>Procesamiento de Lenguaje Natural</left></span>"
   ]
  },
  {
   "cell_type": "markdown",
   "id": "3afa87d4-a848-4512-aebb-f7c2d7f516bc",
   "metadata": {},
   "source": [
    "# <span style=\"color:red\"><center>Syllabus</center></span>"
   ]
  },
  {
   "cell_type": "markdown",
   "id": "496e814a-f443-4647-ad11-2d278f147c6f",
   "metadata": {},
   "source": [
    "<center>Metodos intensivos de computación estadística (2023829) Grupo 1</center>"
   ]
  },
  {
   "cell_type": "markdown",
   "id": "8b7f626b-6f36-452a-b69a-20b7853f78bf",
   "metadata": {},
   "source": [
    "<figure>\n",
    "<center>\n",
    "<img src=\"../Imagenes/BERT-TAREAS.jpeg\" width=\"600\" height=\"600\" align=\"center\"/>\n",
    "</center>\n",
    "</figure>\n",
    "\n",
    "Fuente: Alvaro Montenegro"
   ]
  },
  {
   "cell_type": "markdown",
   "id": "f4af15d9-dc34-47d1-8bc8-401920052965",
   "metadata": {
    "slideshow": {
     "slide_type": "slide"
    },
    "tags": []
   },
   "source": [
    "##   <span style=\"color:blue\">Profesor</span>"
   ]
  },
  {
   "cell_type": "markdown",
   "id": "4d2c8a67-b0bc-4917-91c3-58ec13903f67",
   "metadata": {},
   "source": [
    "- Alvaro  Montenegro, PhD, ammontenegrod@unal.edu.co"
   ]
  },
  {
   "cell_type": "markdown",
   "id": "f269d1fc-38b7-465f-a205-5aad1dd6d86c",
   "metadata": {},
   "source": [
    "## <span style=\"color:blue\">Referencias</span>"
   ]
  },
  {
   "cell_type": "markdown",
   "id": "c1d4e24b-b394-4339-aab7-2fd7adfe8544",
   "metadata": {},
   "source": [
    "1. [Alvaro Montenegro y Daniel Montenegro, Inteligencia Artificial y Aprendizaje Profundo, 2021](https://github.com/AprendizajeProfundo/Diplomado)\n",
    "1. [Alvaro Montenegro, Daniel Montenegro y Oleg Jarma, Inteligencia Artificial y Aprendizaje Profundo Avanzado, 2022](https://github.com/AprendizajeProfundo/Diplomado-Avanzado)\n",
    "1. [Dive into deep learning, 2022](https://d2l.ai/)\n",
    "1. [Transformers for Natural Language Processing: Build innovative deep neural network architectures for NLP with Python, PyTorch, TensorFlow, BERT, RoBERTa, and more, 2021](http://libgen.rs/search.php?req=Transformers+for+Natural+Language+processing&open=0&res=25&view=simple&phrase=1&column=def)\n",
    "1. [Getting Started with Google BERT: Build and train state-of-the-art natural language processing models using BERT, 2021](http://libgen.rs/search.php?req=bert+google&open=0&res=25&view=simple&phrase=1&column=def)"
   ]
  },
  {
   "cell_type": "markdown",
   "id": "a532f96c-9a92-4c87-873f-ef7ccbf74482",
   "metadata": {},
   "source": [
    "## <span style=\"color:blue\">Contenido</span>"
   ]
  },
  {
   "cell_type": "markdown",
   "id": "b5e038d1-69d9-4f84-b920-a1e43773486f",
   "metadata": {},
   "source": [
    "* [Objetivos](#Objetivos)\n",
    "* [Justificación](#Justificación)\n",
    "* [Metodología](#Metodología)\n",
    "* [Tecnologías](#Tecnologías)\n",
    "* [Evaluación](#Evaluación)\n",
    "* [Temas](#Temas)"
   ]
  },
  {
   "cell_type": "markdown",
   "id": "3b7fa999-0f4e-4ba5-8fc1-40d94046faf7",
   "metadata": {},
   "source": [
    "# <span style=\"color:blue\">Objetivos</span> "
   ]
  },
  {
   "cell_type": "markdown",
   "id": "47b77605-8505-4f22-a89c-1fa9d881e5f9",
   "metadata": {},
   "source": [
    "### Objetivo General"
   ]
  },
  {
   "cell_type": "markdown",
   "id": "9c3284e1-5d39-4768-9b77-65aeec042a9c",
   "metadata": {},
   "source": [
    "Es un programa de formación de alto nivel en el Procesamiento Moderno del Lenguaje Natural que prepare a los asistentes para desarrollar, asesorar, dirigir proyectos de innovación científica y tecnológica  en sus trabajos, basados en las técnicas más modernas de manejo del lenguaje natural."
   ]
  },
  {
   "cell_type": "markdown",
   "id": "1c97df00-5aac-4e55-983a-f3fb46a31df3",
   "metadata": {},
   "source": [
    "### Objetivos específicos:"
   ]
  },
  {
   "cell_type": "markdown",
   "id": "319db9e6-1ca7-406a-867e-144c5589712c",
   "metadata": {},
   "source": [
    "* Introducir a los asistentes en los fundamentos teóricos y prácticos del procesamiento del lengauje Natural(PLN)\n",
    "* Proporcionar los elementos de software que le permiten al asistente el desarrollo rápido y efectivo de productos basados en PLN.\n",
    "* Incentivar el uso del PLN como un factor de desarrollo importante en el país mediante la formación de personas altamente calificadas."
   ]
  },
  {
   "cell_type": "markdown",
   "id": "50324ab4-8fd8-4b3c-b591-b20b48e8963e",
   "metadata": {},
   "source": [
    "## <span style=\"color:blue\">Justificación</span> "
   ]
  },
  {
   "cell_type": "markdown",
   "id": "5c4e58df-4e05-40d0-bf8e-ca8256997678",
   "metadata": {},
   "source": [
    "La inteligencia artificial (IA) está constituida actualmente por un amplio conjunto de técnicas con las cuales se pretende imitar actividades humanas específicas que requieren algún tipo de entrenamiento o razonamiento básico, como por ejemplo la toma de decisiones a partir de la identificación de patrones específicos en grandes conjuntos de datos.\n",
    "\n",
    "\n",
    "El procesamiento de lenguaje natural (PLN) es el área más compleja de la IA y en la cual más recursos económicos se han invertido para investigación, desarrollo e implementación de los modleos de PLN.\n",
    "\n",
    "El Departamento de Estadística consciente de esta necesidad ofrece a sus estudiantes este curso con el propósito de contribuir directamente en la formación al más alto nivel de personas que deseen capacitarse en el área que más rápidamente está introduciendo cambios en la sociedad actual."
   ]
  },
  {
   "cell_type": "markdown",
   "id": "1e9efa93-5dfe-43e2-8216-b08f747dff1a",
   "metadata": {},
   "source": [
    "## <span style=\"color:blue\">Metodología</span> "
   ]
  },
  {
   "cell_type": "markdown",
   "id": "0e244542-a8f5-4695-bf65-d94462761873",
   "metadata": {},
   "source": [
    "Se desarrollará con base en 64 horas presenciales distribuidas en 16 semanas. Para aprobar el curso, los asistentes deben desarrollar un proyecto de aprendizaje profundo o inteligencia artificial, el cual podrá ser desarrollado por más de un asistente, con la asesoría del profesor. Los proyectos se irán evaluando a lo largo del curso. Para ello, los estudiantes crearán un repositorio de GitHub en donde se colocaran los avances semanales de su proyecto.\n",
    "\n",
    "Adicionalmente, el profesor dejará algunas tareas para complemenatr la evaluación y asignará exposiciones para ser presentadas a lo largo del curso."
   ]
  },
  {
   "cell_type": "markdown",
   "id": "4a9eae7c-99fc-4ea6-98f5-0c855bc20d54",
   "metadata": {},
   "source": [
    "## <span style=\"color:blue\">Tecnologías</span> "
   ]
  },
  {
   "cell_type": "markdown",
   "id": "c7932182-9834-43ad-83bd-5e090ec304b2",
   "metadata": {},
   "source": [
    "- Python 3.X\n",
    "- Tensorflow 2.X\n",
    "-  Pytorch 1.9\n",
    "- Keras: tf.Keras \n",
    "- Jupyter Lab\n",
    "- Nbviewer\n",
    "- Github\n",
    "- Google Colab\n",
    "- Google Drive\n",
    "- Nltk\n",
    "- Spacy\n",
    "- Gensim\n",
    "- HuggingFace 4.X"
   ]
  },
  {
   "cell_type": "markdown",
   "id": "34537923-bb25-4e05-bbe3-afcc9b436304",
   "metadata": {},
   "source": [
    "## <span style=\"color:blue\">Evaluación</span> "
   ]
  },
  {
   "cell_type": "markdown",
   "id": "ccbc28d1-4519-4193-b41b-021766c3781c",
   "metadata": {},
   "source": [
    "+ Tareas 10\\%\n",
    "+ Exposición 10\\%\n",
    "+ Proyecto de curso %70\\%\n",
    "+ Presentación del proyecto %10%"
   ]
  },
  {
   "cell_type": "markdown",
   "id": "6e695713-8f7a-4505-8912-95d9a121c14b",
   "metadata": {},
   "source": [
    "## <span style=\"color:blue\">Temas</span> "
   ]
  },
  {
   "cell_type": "markdown",
   "id": "496efd45-ce7b-4a07-aff5-a473d4ea6274",
   "metadata": {},
   "source": [
    "### Introdución al curso: 2 horas"
   ]
  },
  {
   "cell_type": "markdown",
   "id": "1339ee89-0bd2-4560-a854-e787f13c367e",
   "metadata": {},
   "source": [
    "* [Tareas de lenguaje natural](https://nbviewer.org/github/AprendizajeProfundo/Diplomado/blob/master/Temas/Módulo%208-%20Aprendizaje%20Profundo%20II/2.%20Transformers/Cuadernos/nlp_HuggingFace_01_pipeline-en.ipynb)\n",
    "\n",
    "* [PLN - La revolución](https://www.youtube.com/watch?v=cTQiN9dewIg)\n",
    "* [GPT-3](https://www.youtube.com/watch?v=C1eOiOkD_8A)\n"
   ]
  },
  {
   "cell_type": "markdown",
   "id": "c29798d1-0fb4-49f4-8416-05b6aeb821d1",
   "metadata": {},
   "source": [
    "### Introducción a Programación: 10 horas"
   ]
  },
  {
   "cell_type": "markdown",
   "id": "e20af27a-8cb8-4a44-abc7-cb0d1dbfdfa5",
   "metadata": {},
   "source": [
    "* Entornos  de Programación y desarrollo:  Python, Anaconda, Jupyterlab, Github, nbviewer, Binder, Tensorflow, Pytorch, Keras, \n",
    "* Desarrollo en la nube:  Google Colab\n",
    "* Introducción a Python\n",
    "* Objetos en Python\n",
    "* Tipos de variables\n",
    "* Estructuras de control\n",
    "* Funciones\n",
    "* Clases y objetos\n",
    "* Métodos y propiedades\n",
    "* Herencia\n",
    "* Clases abstractas, jerarquías\n",
    "* Sobrecarga de funciones y operadores\n",
    "* Protocolos: contextos\n",
    "* Programación funcional. Funciones que generan funciones\n",
    "* Arreglos. Introducción a Numpy. Operaciones con arreglos\n",
    "* Tablas de datos: dataframes:con Pandas\n",
    "* Programación en Tensorflow 2 (Google)\n",
    "* Tensores. Álgebra de tensores\n",
    "* Conversión de arreglos Numpy en tensores de Tensorflow\n",
    "* Menejo de datos con tf.data.Dataset\n",
    "* Diferenciación automática con  tf.GradientTape\n",
    "* Entrenamiento e inferencia de modelos de IA con Tensorflow\n",
    "* Programación en Keras (tf.keras)\n",
    "* Perceptron Multicapa\n",
    "* Modelo Secuencial\n",
    "* API funcional\n",
    "* Primera red neuronal con tf.keras\n",
    "* Programación en Pytorch (Facebook)\n",
    "* Tensores. Algebra de tensores\n",
    "* Conversión de arreglos Numpy en tensores de Pytorch\n",
    "* Manejo de datos con DataSets y DataLoaders\n",
    "* Diferenciación automática con torch.autograd\n",
    "* Entrenamiento e inferencia de modelos de IA con Pytorch"
   ]
  },
  {
   "cell_type": "markdown",
   "id": "126be86c-2c49-4e0e-9fd8-6a301715ecd2",
   "metadata": {},
   "source": [
    "### Matemáticas de la IA: 4 horas"
   ]
  },
  {
   "cell_type": "markdown",
   "id": "db3d4f8f-4cc3-4fff-8bfe-52f07a01bbc4",
   "metadata": {},
   "source": [
    "* Tensores\n",
    "* Diferenciación automática\n",
    "* Optimización: gradiente descendiente estocástico"
   ]
  },
  {
   "cell_type": "markdown",
   "id": "0904c50b-1d47-4ef2-a003-3fdbaf6a7dc6",
   "metadata": {},
   "source": [
    "### Introducción a las Redes Neuronales: 4 Horas"
   ]
  },
  {
   "cell_type": "markdown",
   "id": "0af5a29e-211b-4c86-863e-62deea9eb6df",
   "metadata": {},
   "source": [
    "* Capas de Entrada\n",
    "*  Capas de Salida\n",
    "* Capas Ocultas\n",
    "* Perceptron Multicapa\n",
    "* Implementación en Keras\n",
    "* Modelo Secuencial de Keras\n",
    "* API funcional de Keras\n",
    "* Subclassing en Keras\n",
    "* Diseño de redes neuronales\n",
    "* Regularización: L1, L2, Dropout\n",
    "* Grafos de las redes: Tensorboard\n",
    "* Preparación de datos de entrenamientos, prueba y validación\n",
    "* Optimizadores, métricas.\n",
    "* Compilación. \n",
    "* Modo entrenamiento.\n",
    "* Modo inferencia: validación, predicción.\n",
    "* Modelamiento con Pytorch"
   ]
  },
  {
   "cell_type": "markdown",
   "id": "3132fffb-cd8e-4cd3-8960-23d78c9e9af8",
   "metadata": {
    "tags": []
   },
   "source": [
    "### Autocodificadores: 2 horas"
   ]
  },
  {
   "cell_type": "markdown",
   "id": "47d2ef51-21bf-47a5-968a-464a7c51d053",
   "metadata": {},
   "source": [
    "* Autocodificadores generales\n",
    "    * Codificadores\n",
    "    * Decodificadores\n",
    "    * Representación Latente\n",
    "    * Clustering"
   ]
  },
  {
   "cell_type": "markdown",
   "id": "53183061-d5eb-4cba-acb7-ad470ed72345",
   "metadata": {},
   "source": [
    "### Introducción al tratamiento clásico de textos: 2 horas"
   ]
  },
  {
   "cell_type": "markdown",
   "id": "c0c30a10-27a4-45bc-8f8d-b924ae9f126d",
   "metadata": {},
   "source": [
    "* Introducción al Procesamiento Superficial de Textos\n",
    "* Matriz DTM\n",
    "* Semántica Latente\n",
    "* LDA"
   ]
  },
  {
   "cell_type": "markdown",
   "id": "d40300ea-c081-4937-b501-5a89e2e85316",
   "metadata": {},
   "source": [
    "### Conceptos básicos de PLN moderno"
   ]
  },
  {
   "cell_type": "markdown",
   "id": "3e8ece5e-a1ef-4e15-bb82-24b1b933f66b",
   "metadata": {},
   "source": [
    "- Tokenización\n",
    "- Palabras vacias\n",
    "- Sumergimientos (Embeddings)\n",
    "- CBOW\n",
    "- Skip-gram"
   ]
  },
  {
   "cell_type": "markdown",
   "id": "4e179f23-5f39-4560-99ff-d1ed911e8338",
   "metadata": {},
   "source": [
    "### Modelos recurrentes: 4 Horas"
   ]
  },
  {
   "cell_type": "markdown",
   "id": "fdc76ea4-a157-4819-bc7f-82a4c1c2aed5",
   "metadata": {},
   "source": [
    "* Introducción\n",
    "* Datos Secuenciales\n",
    "* Redes con Memoria\n",
    "* Redes LSTM, GRU, Bidireccionales\n",
    "* Modelos seq2seq"
   ]
  },
  {
   "cell_type": "markdown",
   "id": "ee092402-759d-4a8f-8c21-99768af7eecc",
   "metadata": {},
   "source": [
    "### Técnicas básicas del PLN moderno: 2 horas"
   ]
  },
  {
   "cell_type": "markdown",
   "id": "85259f3f-b694-4da2-b6f4-d52a152bd0bb",
   "metadata": {},
   "source": [
    "* Técnicas modernas de clustering de documentos\n",
    "* Clasificación\n",
    "* Análisis de sentimiento\n",
    "* Traductor basado en seq2seq\n",
    "* Generador de texto basado en caracteres: Sonetos de Shakespeare"
   ]
  },
  {
   "cell_type": "markdown",
   "id": "847b9fb3-f489-4674-bb54-bb0d0f07c7c4",
   "metadata": {},
   "source": [
    "### Recursos linguisticos: 2 horas"
   ]
  },
  {
   "cell_type": "markdown",
   "id": "045d7119-4fa4-4153-b415-9c8fa4660754",
   "metadata": {},
   "source": [
    "* Stanza\n",
    "* Gensim\n",
    "* NLTK"
   ]
  },
  {
   "cell_type": "markdown",
   "id": "d96464b9-ddd3-4eba-938f-83a9bb733d17",
   "metadata": {},
   "source": [
    "### Sumergimientos pre-entrenados estáticos: 2 horas"
   ]
  },
  {
   "cell_type": "markdown",
   "id": "005bd1b7-8e93-47c4-9593-67cd33cdf0f9",
   "metadata": {},
   "source": [
    "* word2vec\n",
    "* Glove\n",
    "* FastText\n",
    "* Calificación automática de ensayos usando sumergimientos estáticos"
   ]
  },
  {
   "cell_type": "markdown",
   "id": "7f7686f7-0349-4e5f-8eb6-cfefe14cf015",
   "metadata": {},
   "source": [
    "### Modelos auto-atencionales: 2 horas"
   ]
  },
  {
   "cell_type": "markdown",
   "id": "aa68d6f5-ec26-4a08-8db6-d99bda0023c1",
   "metadata": {},
   "source": [
    "* Introducción al concepto de atención\n",
    "* Modelos seq2seq atencionales. \n",
    "* Modelos auto-atencionales"
   ]
  },
  {
   "cell_type": "markdown",
   "id": "70d5815a-bf2a-4441-b9ba-02ef874cba4e",
   "metadata": {},
   "source": [
    "### Transformers : 4 horas"
   ]
  },
  {
   "cell_type": "markdown",
   "id": "a7229908-ba38-4722-a738-742b3f4c34ba",
   "metadata": {},
   "source": [
    "* Arquitectura transformer paso a paso\n",
    "* Traductor Inglés-Español basado en transformes básico\n",
    "* Fundamentos de chatbots conversacionales basados en transformers"
   ]
  },
  {
   "cell_type": "markdown",
   "id": "c5f222d0-f4d3-4ac3-9d16-eafa3122f8fa",
   "metadata": {},
   "source": [
    "### Modelos BERT: 6 horas"
   ]
  },
  {
   "cell_type": "markdown",
   "id": "4c8b4198-cb11-4c06-8fb2-84d2c3c473a7",
   "metadata": {},
   "source": [
    "* Modelos pre-entrenados y ajuste fino\n",
    "* Introducción a HuggingFace"
   ]
  },
  {
   "cell_type": "markdown",
   "id": "82c16414-cf34-4094-8de1-ccdf795bc983",
   "metadata": {},
   "source": [
    "### Tareas de PLN:  4 horas"
   ]
  },
  {
   "cell_type": "markdown",
   "id": "30a2c8eb-5fbc-4052-8241-27c42b54fa01",
   "metadata": {},
   "source": [
    "* Llenado - máscaras\n",
    "* Pregunta - Respuesta\n",
    "* Resumen de documentos\n",
    "* Tablas pregunta-respuesta\n",
    "* Clasificación de textos\n",
    "* Generación de textos\n",
    "* Generación Text2Text \n",
    "* Generación de tokens\n",
    "* Traducción\n",
    "* Classificación zero-shot\n",
    "* Similaridad de sentencias\n",
    "* Textos largos: Bert-sentence"
   ]
  },
  {
   "cell_type": "markdown",
   "id": "3f013409-fc7e-4b6c-a433-799683a8a361",
   "metadata": {},
   "source": [
    "### Ajuste fino de modelos: 4 horas"
   ]
  },
  {
   "cell_type": "markdown",
   "id": "0ff02558-be6e-4670-9ee5-d84f887cd080",
   "metadata": {},
   "source": [
    "* Agrgando capas a un modelo \n",
    "* Incluyendo variables a un modelo\n",
    "* Ajuste fino"
   ]
  },
  {
   "cell_type": "markdown",
   "id": "03757842-4544-4fc5-8502-fccb5521a1e9",
   "metadata": {},
   "source": [
    "### Exposiciones: 4 horas"
   ]
  },
  {
   "cell_type": "markdown",
   "id": "229b0812-d37a-41fb-bb35-42ccadc4d5bd",
   "metadata": {},
   "source": [
    "* Variantes de BERT: ALBERT, RoBERTa, ELECTRA\n",
    "* Modelos BERT basados en Destilación de conocimiento\n",
    "* Modelos BERT en español (Beto) y multilingua\n",
    "* Modelo T5\n",
    "* Text2image: GLIDE de OpenAI\n",
    "* Modelos generadores:Blenderbot - GPT"
   ]
  },
  {
   "cell_type": "markdown",
   "id": "9fdb5a57-55cd-4ee0-8d81-dee10ca56527",
   "metadata": {},
   "source": [
    "### Proyectos finales: 4 horas"
   ]
  },
  {
   "cell_type": "markdown",
   "id": "2fec32a7-9f3e-47ec-85a4-f588739f266c",
   "metadata": {},
   "source": [
    "* Presentación de proyectos"
   ]
  },
  {
   "cell_type": "code",
   "execution_count": null,
   "id": "1f68b2ba-795b-4e6b-a6e0-c92dced8abc9",
   "metadata": {},
   "outputs": [],
   "source": []
  }
 ],
 "metadata": {
  "kernelspec": {
   "display_name": "Python 3 (ipykernel)",
   "language": "python",
   "name": "python3"
  },
  "language_info": {
   "codemirror_mode": {
    "name": "ipython",
    "version": 3
   },
   "file_extension": ".py",
   "mimetype": "text/x-python",
   "name": "python",
   "nbconvert_exporter": "python",
   "pygments_lexer": "ipython3",
   "version": "3.8.12"
  }
 },
 "nbformat": 4,
 "nbformat_minor": 5
}
